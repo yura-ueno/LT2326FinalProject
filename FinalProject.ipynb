{
 "cells": [
  {
   "cell_type": "markdown",
   "id": "9732d5db-e1c9-4db6-980a-dbc1009a80f6",
   "metadata": {},
   "source": [
    "# Text classification of positive & negative reviews for skincare products"
   ]
  },
  {
   "cell_type": "markdown",
   "id": "ebf68a9a-ef30-43a6-8237-5b2c647e9d71",
   "metadata": {},
   "source": [
    "## Yura Ueno"
   ]
  },
  {
   "cell_type": "code",
   "execution_count": 1,
   "id": "98b0f656-fe27-41a7-b0a9-90d217d5a46b",
   "metadata": {},
   "outputs": [],
   "source": [
    "import pandas as pd\n",
    "import numpy as np\n",
    "import matplotlib.pyplot as plt\n",
    "import seaborn as sns\n",
    "from collections import Counter\n",
    "import warnings\n",
    "warnings.filterwarnings('ignore')"
   ]
  },
  {
   "cell_type": "markdown",
   "id": "58f2f667-7bc9-4e36-b594-bd1bfe1a7fe3",
   "metadata": {
    "cell_id": "e817639c2e924ceaa729adbedcd2e702",
    "deepnote_cell_type": "markdown"
   },
   "source": [
    "# Data Loading & Data selection"
   ]
  },
  {
   "cell_type": "markdown",
   "id": "d59356ae-c49e-4b79-8bb5-7cd56663ad1b",
   "metadata": {},
   "source": [
    "The data used for this project is downloaded from: https://www.kaggle.com/datasets/nadyinky/sephora-products-and-skincare-reviews/data?select=reviews_0-250.csv\n",
    "\n",
    "This dataset was collected via Python scraper in March 2023 and contains:\n",
    "\n",
    "- user reviews from the Skincare category, including user appearances, review ratings, and whether the review is recommending the product or not.\n",
    "\n",
    "We use this dataset to carry out a sentiment classification of the reviews into \"recommending\" (positive) and \"not recommending\" (negative) reviews.\n"
   ]
  },
  {
   "cell_type": "code",
   "execution_count": 2,
   "id": "c218e9d5-1f28-478d-b657-d8eac0b40e74",
   "metadata": {},
   "outputs": [],
   "source": [
    "df_org = pd.read_csv(\"reviews_0-250.csv\", index_col=0)"
   ]
  },
  {
   "cell_type": "code",
   "execution_count": 3,
   "id": "c52fb427-859b-4ab8-99ef-ce2d9f55be8d",
   "metadata": {},
   "outputs": [
    {
     "data": {
      "text/html": [
       "<div>\n",
       "<style scoped>\n",
       "    .dataframe tbody tr th:only-of-type {\n",
       "        vertical-align: middle;\n",
       "    }\n",
       "\n",
       "    .dataframe tbody tr th {\n",
       "        vertical-align: top;\n",
       "    }\n",
       "\n",
       "    .dataframe thead th {\n",
       "        text-align: right;\n",
       "    }\n",
       "</style>\n",
       "<table border=\"1\" class=\"dataframe\">\n",
       "  <thead>\n",
       "    <tr style=\"text-align: right;\">\n",
       "      <th></th>\n",
       "      <th>author_id</th>\n",
       "      <th>rating</th>\n",
       "      <th>is_recommended</th>\n",
       "      <th>helpfulness</th>\n",
       "      <th>total_feedback_count</th>\n",
       "      <th>total_neg_feedback_count</th>\n",
       "      <th>total_pos_feedback_count</th>\n",
       "      <th>submission_time</th>\n",
       "      <th>review_text</th>\n",
       "      <th>review_title</th>\n",
       "      <th>skin_tone</th>\n",
       "      <th>eye_color</th>\n",
       "      <th>skin_type</th>\n",
       "      <th>hair_color</th>\n",
       "      <th>product_id</th>\n",
       "      <th>product_name</th>\n",
       "      <th>brand_name</th>\n",
       "      <th>price_usd</th>\n",
       "    </tr>\n",
       "  </thead>\n",
       "  <tbody>\n",
       "    <tr>\n",
       "      <th>0</th>\n",
       "      <td>1741593524</td>\n",
       "      <td>5</td>\n",
       "      <td>1.0</td>\n",
       "      <td>1.0</td>\n",
       "      <td>2</td>\n",
       "      <td>0</td>\n",
       "      <td>2</td>\n",
       "      <td>2023-02-01</td>\n",
       "      <td>I use this with the Nudestix “Citrus Clean Bal...</td>\n",
       "      <td>Taught me how to double cleanse!</td>\n",
       "      <td>NaN</td>\n",
       "      <td>brown</td>\n",
       "      <td>dry</td>\n",
       "      <td>black</td>\n",
       "      <td>P504322</td>\n",
       "      <td>Gentle Hydra-Gel Face Cleanser</td>\n",
       "      <td>NUDESTIX</td>\n",
       "      <td>19.0</td>\n",
       "    </tr>\n",
       "    <tr>\n",
       "      <th>1</th>\n",
       "      <td>31423088263</td>\n",
       "      <td>1</td>\n",
       "      <td>0.0</td>\n",
       "      <td>NaN</td>\n",
       "      <td>0</td>\n",
       "      <td>0</td>\n",
       "      <td>0</td>\n",
       "      <td>2023-03-21</td>\n",
       "      <td>I bought this lip mask after reading the revie...</td>\n",
       "      <td>Disappointed</td>\n",
       "      <td>NaN</td>\n",
       "      <td>NaN</td>\n",
       "      <td>NaN</td>\n",
       "      <td>NaN</td>\n",
       "      <td>P420652</td>\n",
       "      <td>Lip Sleeping Mask Intense Hydration with Vitam...</td>\n",
       "      <td>LANEIGE</td>\n",
       "      <td>24.0</td>\n",
       "    </tr>\n",
       "    <tr>\n",
       "      <th>2</th>\n",
       "      <td>5061282401</td>\n",
       "      <td>5</td>\n",
       "      <td>1.0</td>\n",
       "      <td>NaN</td>\n",
       "      <td>0</td>\n",
       "      <td>0</td>\n",
       "      <td>0</td>\n",
       "      <td>2023-03-21</td>\n",
       "      <td>My review title says it all! I get so excited ...</td>\n",
       "      <td>New Favorite Routine</td>\n",
       "      <td>light</td>\n",
       "      <td>brown</td>\n",
       "      <td>dry</td>\n",
       "      <td>blonde</td>\n",
       "      <td>P420652</td>\n",
       "      <td>Lip Sleeping Mask Intense Hydration with Vitam...</td>\n",
       "      <td>LANEIGE</td>\n",
       "      <td>24.0</td>\n",
       "    </tr>\n",
       "    <tr>\n",
       "      <th>3</th>\n",
       "      <td>6083038851</td>\n",
       "      <td>5</td>\n",
       "      <td>1.0</td>\n",
       "      <td>NaN</td>\n",
       "      <td>0</td>\n",
       "      <td>0</td>\n",
       "      <td>0</td>\n",
       "      <td>2023-03-20</td>\n",
       "      <td>I’ve always loved this formula for a long time...</td>\n",
       "      <td>Can't go wrong with any of them</td>\n",
       "      <td>NaN</td>\n",
       "      <td>brown</td>\n",
       "      <td>combination</td>\n",
       "      <td>black</td>\n",
       "      <td>P420652</td>\n",
       "      <td>Lip Sleeping Mask Intense Hydration with Vitam...</td>\n",
       "      <td>LANEIGE</td>\n",
       "      <td>24.0</td>\n",
       "    </tr>\n",
       "    <tr>\n",
       "      <th>4</th>\n",
       "      <td>47056667835</td>\n",
       "      <td>5</td>\n",
       "      <td>1.0</td>\n",
       "      <td>NaN</td>\n",
       "      <td>0</td>\n",
       "      <td>0</td>\n",
       "      <td>0</td>\n",
       "      <td>2023-03-20</td>\n",
       "      <td>If you have dry cracked lips, this is a must h...</td>\n",
       "      <td>A must have !!!</td>\n",
       "      <td>light</td>\n",
       "      <td>hazel</td>\n",
       "      <td>combination</td>\n",
       "      <td>NaN</td>\n",
       "      <td>P420652</td>\n",
       "      <td>Lip Sleeping Mask Intense Hydration with Vitam...</td>\n",
       "      <td>LANEIGE</td>\n",
       "      <td>24.0</td>\n",
       "    </tr>\n",
       "  </tbody>\n",
       "</table>\n",
       "</div>"
      ],
      "text/plain": [
       "     author_id  rating  is_recommended  helpfulness  total_feedback_count  \\\n",
       "0   1741593524       5             1.0          1.0                     2   \n",
       "1  31423088263       1             0.0          NaN                     0   \n",
       "2   5061282401       5             1.0          NaN                     0   \n",
       "3   6083038851       5             1.0          NaN                     0   \n",
       "4  47056667835       5             1.0          NaN                     0   \n",
       "\n",
       "   total_neg_feedback_count  total_pos_feedback_count submission_time  \\\n",
       "0                         0                         2      2023-02-01   \n",
       "1                         0                         0      2023-03-21   \n",
       "2                         0                         0      2023-03-21   \n",
       "3                         0                         0      2023-03-20   \n",
       "4                         0                         0      2023-03-20   \n",
       "\n",
       "                                         review_text  \\\n",
       "0  I use this with the Nudestix “Citrus Clean Bal...   \n",
       "1  I bought this lip mask after reading the revie...   \n",
       "2  My review title says it all! I get so excited ...   \n",
       "3  I’ve always loved this formula for a long time...   \n",
       "4  If you have dry cracked lips, this is a must h...   \n",
       "\n",
       "                       review_title skin_tone eye_color    skin_type  \\\n",
       "0  Taught me how to double cleanse!       NaN     brown          dry   \n",
       "1                      Disappointed       NaN       NaN          NaN   \n",
       "2              New Favorite Routine     light     brown          dry   \n",
       "3   Can't go wrong with any of them       NaN     brown  combination   \n",
       "4                   A must have !!!     light     hazel  combination   \n",
       "\n",
       "  hair_color product_id                                       product_name  \\\n",
       "0      black    P504322                     Gentle Hydra-Gel Face Cleanser   \n",
       "1        NaN    P420652  Lip Sleeping Mask Intense Hydration with Vitam...   \n",
       "2     blonde    P420652  Lip Sleeping Mask Intense Hydration with Vitam...   \n",
       "3      black    P420652  Lip Sleeping Mask Intense Hydration with Vitam...   \n",
       "4        NaN    P420652  Lip Sleeping Mask Intense Hydration with Vitam...   \n",
       "\n",
       "  brand_name  price_usd  \n",
       "0   NUDESTIX       19.0  \n",
       "1    LANEIGE       24.0  \n",
       "2    LANEIGE       24.0  \n",
       "3    LANEIGE       24.0  \n",
       "4    LANEIGE       24.0  "
      ]
     },
     "execution_count": 3,
     "metadata": {},
     "output_type": "execute_result"
    }
   ],
   "source": [
    "df_org.head()"
   ]
  },
  {
   "cell_type": "code",
   "execution_count": 4,
   "id": "b847cf35-ebaa-43cb-bcb5-73c7ab400283",
   "metadata": {},
   "outputs": [
    {
     "data": {
      "text/plain": [
       "Index(['author_id', 'rating', 'is_recommended', 'helpfulness',\n",
       "       'total_feedback_count', 'total_neg_feedback_count',\n",
       "       'total_pos_feedback_count', 'submission_time', 'review_text',\n",
       "       'review_title', 'skin_tone', 'eye_color', 'skin_type', 'hair_color',\n",
       "       'product_id', 'product_name', 'brand_name', 'price_usd'],\n",
       "      dtype='object')"
      ]
     },
     "execution_count": 4,
     "metadata": {},
     "output_type": "execute_result"
    }
   ],
   "source": [
    "df_org.columns"
   ]
  },
  {
   "cell_type": "code",
   "execution_count": 5,
   "id": "a6bb08ea-3fba-4cfe-bb36-8d498619a698",
   "metadata": {},
   "outputs": [
    {
     "data": {
      "text/html": [
       "<div>\n",
       "<style scoped>\n",
       "    .dataframe tbody tr th:only-of-type {\n",
       "        vertical-align: middle;\n",
       "    }\n",
       "\n",
       "    .dataframe tbody tr th {\n",
       "        vertical-align: top;\n",
       "    }\n",
       "\n",
       "    .dataframe thead th {\n",
       "        text-align: right;\n",
       "    }\n",
       "</style>\n",
       "<table border=\"1\" class=\"dataframe\">\n",
       "  <thead>\n",
       "    <tr style=\"text-align: right;\">\n",
       "      <th></th>\n",
       "      <th>review_text</th>\n",
       "      <th>is_recommended</th>\n",
       "    </tr>\n",
       "  </thead>\n",
       "  <tbody>\n",
       "    <tr>\n",
       "      <th>0</th>\n",
       "      <td>I use this with the Nudestix “Citrus Clean Bal...</td>\n",
       "      <td>1.0</td>\n",
       "    </tr>\n",
       "    <tr>\n",
       "      <th>1</th>\n",
       "      <td>I bought this lip mask after reading the revie...</td>\n",
       "      <td>0.0</td>\n",
       "    </tr>\n",
       "    <tr>\n",
       "      <th>2</th>\n",
       "      <td>My review title says it all! I get so excited ...</td>\n",
       "      <td>1.0</td>\n",
       "    </tr>\n",
       "    <tr>\n",
       "      <th>3</th>\n",
       "      <td>I’ve always loved this formula for a long time...</td>\n",
       "      <td>1.0</td>\n",
       "    </tr>\n",
       "    <tr>\n",
       "      <th>4</th>\n",
       "      <td>If you have dry cracked lips, this is a must h...</td>\n",
       "      <td>1.0</td>\n",
       "    </tr>\n",
       "  </tbody>\n",
       "</table>\n",
       "</div>"
      ],
      "text/plain": [
       "                                         review_text  is_recommended\n",
       "0  I use this with the Nudestix “Citrus Clean Bal...             1.0\n",
       "1  I bought this lip mask after reading the revie...             0.0\n",
       "2  My review title says it all! I get so excited ...             1.0\n",
       "3  I’ve always loved this formula for a long time...             1.0\n",
       "4  If you have dry cracked lips, this is a must h...             1.0"
      ]
     },
     "execution_count": 5,
     "metadata": {},
     "output_type": "execute_result"
    }
   ],
   "source": [
    "# select only the relevant collumns\n",
    "df_prep = df_org[[\"review_text\", \"is_recommended\"]]\n",
    "df_prep.dropna(inplace=True)\n",
    "df_prep.head()"
   ]
  },
  {
   "cell_type": "code",
   "execution_count": 6,
   "id": "14f30bd1-03f3-4170-a55b-5ccb43fc5c7a",
   "metadata": {},
   "outputs": [
    {
     "data": {
      "text/plain": [
       "84791"
      ]
     },
     "execution_count": 6,
     "metadata": {},
     "output_type": "execute_result"
    }
   ],
   "source": [
    "# check if there are any duplicates in the data\n",
    "df_prep[\"review_text\"].duplicated().sum()"
   ]
  },
  {
   "cell_type": "code",
   "execution_count": 7,
   "id": "f34654bc-c2df-4730-8b9b-6d25c5263463",
   "metadata": {},
   "outputs": [],
   "source": [
    "# drop duplicates in the data\n",
    "df_prep.drop_duplicates(subset=[\"review_text\"], inplace=True)"
   ]
  },
  {
   "cell_type": "code",
   "execution_count": 8,
   "id": "31a592a5-9c20-47fc-9024-a984c6699b74",
   "metadata": {},
   "outputs": [
    {
     "data": {
      "text/plain": [
       "1.0    335431\n",
       "0.0     63423\n",
       "Name: is_recommended, dtype: int64"
      ]
     },
     "execution_count": 8,
     "metadata": {},
     "output_type": "execute_result"
    }
   ],
   "source": [
    "# check the number of postivie and negative reviews\n",
    "df_prep[\"is_recommended\"].value_counts()"
   ]
  },
  {
   "cell_type": "markdown",
   "id": "740593c2-4938-4678-b43b-ec51588615ae",
   "metadata": {},
   "source": [
    "=> will use only 20,000 positive reviews and 20,000 negative reviews in order to create a balanced dataset and also considering that around 40,000 reviews would be sufficient for this sentiment classification project."
   ]
  },
  {
   "cell_type": "code",
   "execution_count": 9,
   "id": "99abd61e-6e3f-45f6-acc9-dec858302854",
   "metadata": {},
   "outputs": [
    {
     "data": {
      "text/html": [
       "<div>\n",
       "<style scoped>\n",
       "    .dataframe tbody tr th:only-of-type {\n",
       "        vertical-align: middle;\n",
       "    }\n",
       "\n",
       "    .dataframe tbody tr th {\n",
       "        vertical-align: top;\n",
       "    }\n",
       "\n",
       "    .dataframe thead th {\n",
       "        text-align: right;\n",
       "    }\n",
       "</style>\n",
       "<table border=\"1\" class=\"dataframe\">\n",
       "  <thead>\n",
       "    <tr style=\"text-align: right;\">\n",
       "      <th></th>\n",
       "      <th>review_text</th>\n",
       "      <th>is_recommended</th>\n",
       "    </tr>\n",
       "  </thead>\n",
       "  <tbody>\n",
       "    <tr>\n",
       "      <th>0</th>\n",
       "      <td>I bought this lip mask after reading the revie...</td>\n",
       "      <td>0.0</td>\n",
       "    </tr>\n",
       "    <tr>\n",
       "      <th>1</th>\n",
       "      <td>I’ll give this 2 stars for nice packaging and ...</td>\n",
       "      <td>0.0</td>\n",
       "    </tr>\n",
       "    <tr>\n",
       "      <th>2</th>\n",
       "      <td>Honestly I was so excited when I got this in t...</td>\n",
       "      <td>0.0</td>\n",
       "    </tr>\n",
       "    <tr>\n",
       "      <th>3</th>\n",
       "      <td>Does the gummy bear mask smell absolutely deli...</td>\n",
       "      <td>0.0</td>\n",
       "    </tr>\n",
       "    <tr>\n",
       "      <th>4</th>\n",
       "      <td>There’s nothing wrong with it but i think it w...</td>\n",
       "      <td>0.0</td>\n",
       "    </tr>\n",
       "    <tr>\n",
       "      <th>...</th>\n",
       "      <td>...</td>\n",
       "      <td>...</td>\n",
       "    </tr>\n",
       "    <tr>\n",
       "      <th>19995</th>\n",
       "      <td>NOT FOR OILY SKIN!!! I really wanted to like t...</td>\n",
       "      <td>0.0</td>\n",
       "    </tr>\n",
       "    <tr>\n",
       "      <th>19996</th>\n",
       "      <td>Really weird texture. Good if you want a matte...</td>\n",
       "      <td>0.0</td>\n",
       "    </tr>\n",
       "    <tr>\n",
       "      <th>19997</th>\n",
       "      <td>I am not 100% sure which ingredient did it, bu...</td>\n",
       "      <td>0.0</td>\n",
       "    </tr>\n",
       "    <tr>\n",
       "      <th>19998</th>\n",
       "      <td>This sunscreen is disgusting and I gave it to ...</td>\n",
       "      <td>0.0</td>\n",
       "    </tr>\n",
       "    <tr>\n",
       "      <th>19999</th>\n",
       "      <td>I wanted to like this so much, but it irritate...</td>\n",
       "      <td>0.0</td>\n",
       "    </tr>\n",
       "  </tbody>\n",
       "</table>\n",
       "<p>20000 rows × 2 columns</p>\n",
       "</div>"
      ],
      "text/plain": [
       "                                             review_text  is_recommended\n",
       "0      I bought this lip mask after reading the revie...             0.0\n",
       "1      I’ll give this 2 stars for nice packaging and ...             0.0\n",
       "2      Honestly I was so excited when I got this in t...             0.0\n",
       "3      Does the gummy bear mask smell absolutely deli...             0.0\n",
       "4      There’s nothing wrong with it but i think it w...             0.0\n",
       "...                                                  ...             ...\n",
       "19995  NOT FOR OILY SKIN!!! I really wanted to like t...             0.0\n",
       "19996  Really weird texture. Good if you want a matte...             0.0\n",
       "19997  I am not 100% sure which ingredient did it, bu...             0.0\n",
       "19998  This sunscreen is disgusting and I gave it to ...             0.0\n",
       "19999  I wanted to like this so much, but it irritate...             0.0\n",
       "\n",
       "[20000 rows x 2 columns]"
      ]
     },
     "execution_count": 9,
     "metadata": {},
     "output_type": "execute_result"
    }
   ],
   "source": [
    "# select 20,000 negative reviews\n",
    "df_neg = df_prep[df_prep[\"is_recommended\"]==0].reset_index(drop=True).iloc[:20000].copy()\n",
    "df_neg"
   ]
  },
  {
   "cell_type": "code",
   "execution_count": 10,
   "id": "0b94f802-6a85-45e8-a3f5-b4e019dd1758",
   "metadata": {},
   "outputs": [
    {
     "data": {
      "text/html": [
       "<div>\n",
       "<style scoped>\n",
       "    .dataframe tbody tr th:only-of-type {\n",
       "        vertical-align: middle;\n",
       "    }\n",
       "\n",
       "    .dataframe tbody tr th {\n",
       "        vertical-align: top;\n",
       "    }\n",
       "\n",
       "    .dataframe thead th {\n",
       "        text-align: right;\n",
       "    }\n",
       "</style>\n",
       "<table border=\"1\" class=\"dataframe\">\n",
       "  <thead>\n",
       "    <tr style=\"text-align: right;\">\n",
       "      <th></th>\n",
       "      <th>review_text</th>\n",
       "      <th>is_recommended</th>\n",
       "    </tr>\n",
       "  </thead>\n",
       "  <tbody>\n",
       "    <tr>\n",
       "      <th>0</th>\n",
       "      <td>I use this with the Nudestix “Citrus Clean Bal...</td>\n",
       "      <td>1.0</td>\n",
       "    </tr>\n",
       "    <tr>\n",
       "      <th>1</th>\n",
       "      <td>My review title says it all! I get so excited ...</td>\n",
       "      <td>1.0</td>\n",
       "    </tr>\n",
       "    <tr>\n",
       "      <th>2</th>\n",
       "      <td>I’ve always loved this formula for a long time...</td>\n",
       "      <td>1.0</td>\n",
       "    </tr>\n",
       "    <tr>\n",
       "      <th>3</th>\n",
       "      <td>If you have dry cracked lips, this is a must h...</td>\n",
       "      <td>1.0</td>\n",
       "    </tr>\n",
       "    <tr>\n",
       "      <th>4</th>\n",
       "      <td>The scent isn’t my favourite but it works grea...</td>\n",
       "      <td>1.0</td>\n",
       "    </tr>\n",
       "    <tr>\n",
       "      <th>...</th>\n",
       "      <td>...</td>\n",
       "      <td>...</td>\n",
       "    </tr>\n",
       "    <tr>\n",
       "      <th>19995</th>\n",
       "      <td>I have been struggling with dark spots for the...</td>\n",
       "      <td>1.0</td>\n",
       "    </tr>\n",
       "    <tr>\n",
       "      <th>19996</th>\n",
       "      <td>This product is awesome! I only got 3 days wor...</td>\n",
       "      <td>1.0</td>\n",
       "    </tr>\n",
       "    <tr>\n",
       "      <th>19997</th>\n",
       "      <td>Dr. Dennis Gross Skincare is abit pricy ,howev...</td>\n",
       "      <td>1.0</td>\n",
       "    </tr>\n",
       "    <tr>\n",
       "      <th>19998</th>\n",
       "      <td>With having extremely sensitive skin and eyes,...</td>\n",
       "      <td>1.0</td>\n",
       "    </tr>\n",
       "    <tr>\n",
       "      <th>19999</th>\n",
       "      <td>I was worried about using this product because...</td>\n",
       "      <td>1.0</td>\n",
       "    </tr>\n",
       "  </tbody>\n",
       "</table>\n",
       "<p>20000 rows × 2 columns</p>\n",
       "</div>"
      ],
      "text/plain": [
       "                                             review_text  is_recommended\n",
       "0      I use this with the Nudestix “Citrus Clean Bal...             1.0\n",
       "1      My review title says it all! I get so excited ...             1.0\n",
       "2      I’ve always loved this formula for a long time...             1.0\n",
       "3      If you have dry cracked lips, this is a must h...             1.0\n",
       "4      The scent isn’t my favourite but it works grea...             1.0\n",
       "...                                                  ...             ...\n",
       "19995  I have been struggling with dark spots for the...             1.0\n",
       "19996  This product is awesome! I only got 3 days wor...             1.0\n",
       "19997  Dr. Dennis Gross Skincare is abit pricy ,howev...             1.0\n",
       "19998  With having extremely sensitive skin and eyes,...             1.0\n",
       "19999  I was worried about using this product because...             1.0\n",
       "\n",
       "[20000 rows x 2 columns]"
      ]
     },
     "execution_count": 10,
     "metadata": {},
     "output_type": "execute_result"
    }
   ],
   "source": [
    "# select 20,000 positive reivews\n",
    "df_pos = df_prep[df_prep[\"is_recommended\"]==1].reset_index(drop=True).iloc[:20000].copy()\n",
    "df_pos"
   ]
  },
  {
   "cell_type": "markdown",
   "id": "e0edb57b-aa21-4538-b64b-0a31bddac647",
   "metadata": {},
   "source": [
    "#### Check the languages of the reviews"
   ]
  },
  {
   "cell_type": "code",
   "execution_count": 11,
   "id": "cec4b568-febf-46b4-a4e0-f909145e773d",
   "metadata": {},
   "outputs": [],
   "source": [
    "from langdetect import detect"
   ]
  },
  {
   "cell_type": "code",
   "execution_count": 12,
   "id": "4da19b44-b816-4fb5-9cd1-d3411a4f0e3e",
   "metadata": {},
   "outputs": [],
   "source": [
    "df_pos[\"review_lang\"] = df_pos[\"review_text\"].apply(detect)"
   ]
  },
  {
   "cell_type": "code",
   "execution_count": 13,
   "id": "0a3ac6a7-b51d-466c-ac2d-16f8e9fa4c25",
   "metadata": {},
   "outputs": [],
   "source": [
    "df_neg[\"review_lang\"] = df_neg[\"review_text\"].apply(detect)"
   ]
  },
  {
   "cell_type": "code",
   "execution_count": 14,
   "id": "0cd0f13a-62f5-483f-8706-18056ffc3f92",
   "metadata": {},
   "outputs": [
    {
     "data": {
      "text/plain": [
       "en    19839\n",
       "fr       95\n",
       "no       19\n",
       "af       10\n",
       "de        7\n",
       "da        7\n",
       "es        5\n",
       "ro        3\n",
       "tl        2\n",
       "it        2\n",
       "ca        2\n",
       "sv        2\n",
       "et        2\n",
       "so        1\n",
       "sq        1\n",
       "cy        1\n",
       "nl        1\n",
       "sl        1\n",
       "Name: review_lang, dtype: int64"
      ]
     },
     "execution_count": 14,
     "metadata": {},
     "output_type": "execute_result"
    }
   ],
   "source": [
    "df_pos[\"review_lang\"].value_counts()"
   ]
  },
  {
   "cell_type": "code",
   "execution_count": 15,
   "id": "714659b8-3d9c-4177-991e-84b83255fc15",
   "metadata": {},
   "outputs": [
    {
     "data": {
      "text/plain": [
       "en    19935\n",
       "fr       30\n",
       "af       15\n",
       "no        7\n",
       "da        4\n",
       "pt        3\n",
       "sv        2\n",
       "de        1\n",
       "it        1\n",
       "sq        1\n",
       "ro        1\n",
       "Name: review_lang, dtype: int64"
      ]
     },
     "execution_count": 15,
     "metadata": {},
     "output_type": "execute_result"
    }
   ],
   "source": [
    "df_neg[\"review_lang\"].value_counts()"
   ]
  },
  {
   "cell_type": "markdown",
   "id": "8293a5b9-ca15-4ec1-a30e-6bfab1c3df4d",
   "metadata": {},
   "source": [
    "=> will limit to only English reviews and also limit the number of the reviews to be 19,800 for positive and negative reviews each so that we have a balanced dataset."
   ]
  },
  {
   "cell_type": "code",
   "execution_count": 16,
   "id": "2c77a878-361b-4cae-a564-1e8c8d58dd8e",
   "metadata": {},
   "outputs": [],
   "source": [
    "df_pos = df_pos[df_pos[\"review_lang\"]==\"en\"].reset_index(drop=True).iloc[:19800].copy()"
   ]
  },
  {
   "cell_type": "code",
   "execution_count": 17,
   "id": "9ef9ab6e-0f14-4818-ad9c-cde889be8d15",
   "metadata": {},
   "outputs": [],
   "source": [
    "df_neg = df_neg[df_neg[\"review_lang\"]==\"en\"].reset_index(drop=True).iloc[:19800].copy()"
   ]
  },
  {
   "cell_type": "code",
   "execution_count": 18,
   "id": "b527a999-93c7-4c19-95bd-7cb13bc71360",
   "metadata": {},
   "outputs": [],
   "source": [
    "df = pd.concat([df_pos, df_neg]).copy()"
   ]
  },
  {
   "cell_type": "code",
   "execution_count": 19,
   "id": "b72bda08-cfb6-4df7-ba9a-283458dc14c8",
   "metadata": {},
   "outputs": [
    {
     "data": {
      "text/plain": [
       "en    39600\n",
       "Name: review_lang, dtype: int64"
      ]
     },
     "execution_count": 19,
     "metadata": {},
     "output_type": "execute_result"
    }
   ],
   "source": [
    "df[\"review_lang\"].value_counts()"
   ]
  },
  {
   "cell_type": "code",
   "execution_count": 20,
   "id": "fedf3859-cbb7-4f61-80fd-4060ee523ec1",
   "metadata": {},
   "outputs": [
    {
     "data": {
      "text/plain": [
       "1.0    19800\n",
       "0.0    19800\n",
       "Name: is_recommended, dtype: int64"
      ]
     },
     "execution_count": 20,
     "metadata": {},
     "output_type": "execute_result"
    }
   ],
   "source": [
    "df[\"is_recommended\"].value_counts()"
   ]
  },
  {
   "cell_type": "code",
   "execution_count": 21,
   "id": "c8004eac-b4cf-4711-93f3-0a37b81edeb2",
   "metadata": {},
   "outputs": [
    {
     "data": {
      "text/html": [
       "<div>\n",
       "<style scoped>\n",
       "    .dataframe tbody tr th:only-of-type {\n",
       "        vertical-align: middle;\n",
       "    }\n",
       "\n",
       "    .dataframe tbody tr th {\n",
       "        vertical-align: top;\n",
       "    }\n",
       "\n",
       "    .dataframe thead th {\n",
       "        text-align: right;\n",
       "    }\n",
       "</style>\n",
       "<table border=\"1\" class=\"dataframe\">\n",
       "  <thead>\n",
       "    <tr style=\"text-align: right;\">\n",
       "      <th></th>\n",
       "      <th>review_text</th>\n",
       "      <th>is_recommended</th>\n",
       "      <th>review_lang</th>\n",
       "    </tr>\n",
       "  </thead>\n",
       "  <tbody>\n",
       "    <tr>\n",
       "      <th>0</th>\n",
       "      <td>I use this with the Nudestix “Citrus Clean Bal...</td>\n",
       "      <td>1.0</td>\n",
       "      <td>en</td>\n",
       "    </tr>\n",
       "    <tr>\n",
       "      <th>1</th>\n",
       "      <td>My review title says it all! I get so excited ...</td>\n",
       "      <td>1.0</td>\n",
       "      <td>en</td>\n",
       "    </tr>\n",
       "    <tr>\n",
       "      <th>2</th>\n",
       "      <td>I’ve always loved this formula for a long time...</td>\n",
       "      <td>1.0</td>\n",
       "      <td>en</td>\n",
       "    </tr>\n",
       "    <tr>\n",
       "      <th>3</th>\n",
       "      <td>If you have dry cracked lips, this is a must h...</td>\n",
       "      <td>1.0</td>\n",
       "      <td>en</td>\n",
       "    </tr>\n",
       "    <tr>\n",
       "      <th>4</th>\n",
       "      <td>The scent isn’t my favourite but it works grea...</td>\n",
       "      <td>1.0</td>\n",
       "      <td>en</td>\n",
       "    </tr>\n",
       "    <tr>\n",
       "      <th>...</th>\n",
       "      <td>...</td>\n",
       "      <td>...</td>\n",
       "      <td>...</td>\n",
       "    </tr>\n",
       "    <tr>\n",
       "      <th>19795</th>\n",
       "      <td>I didn’t like the feel or smell of this sunscr...</td>\n",
       "      <td>0.0</td>\n",
       "      <td>en</td>\n",
       "    </tr>\n",
       "    <tr>\n",
       "      <th>19796</th>\n",
       "      <td>I thought this sunscreen was a clean product. ...</td>\n",
       "      <td>0.0</td>\n",
       "      <td>en</td>\n",
       "    </tr>\n",
       "    <tr>\n",
       "      <th>19797</th>\n",
       "      <td>The consistency of this product is so weird. I...</td>\n",
       "      <td>0.0</td>\n",
       "      <td>en</td>\n",
       "    </tr>\n",
       "    <tr>\n",
       "      <th>19798</th>\n",
       "      <td>I got a sample size with purchase.  It’s very ...</td>\n",
       "      <td>0.0</td>\n",
       "      <td>en</td>\n",
       "    </tr>\n",
       "    <tr>\n",
       "      <th>19799</th>\n",
       "      <td>I honestly hated this sunscreen, I had to retu...</td>\n",
       "      <td>0.0</td>\n",
       "      <td>en</td>\n",
       "    </tr>\n",
       "  </tbody>\n",
       "</table>\n",
       "<p>39600 rows × 3 columns</p>\n",
       "</div>"
      ],
      "text/plain": [
       "                                             review_text  is_recommended  \\\n",
       "0      I use this with the Nudestix “Citrus Clean Bal...             1.0   \n",
       "1      My review title says it all! I get so excited ...             1.0   \n",
       "2      I’ve always loved this formula for a long time...             1.0   \n",
       "3      If you have dry cracked lips, this is a must h...             1.0   \n",
       "4      The scent isn’t my favourite but it works grea...             1.0   \n",
       "...                                                  ...             ...   \n",
       "19795  I didn’t like the feel or smell of this sunscr...             0.0   \n",
       "19796  I thought this sunscreen was a clean product. ...             0.0   \n",
       "19797  The consistency of this product is so weird. I...             0.0   \n",
       "19798  I got a sample size with purchase.  It’s very ...             0.0   \n",
       "19799  I honestly hated this sunscreen, I had to retu...             0.0   \n",
       "\n",
       "      review_lang  \n",
       "0              en  \n",
       "1              en  \n",
       "2              en  \n",
       "3              en  \n",
       "4              en  \n",
       "...           ...  \n",
       "19795          en  \n",
       "19796          en  \n",
       "19797          en  \n",
       "19798          en  \n",
       "19799          en  \n",
       "\n",
       "[39600 rows x 3 columns]"
      ]
     },
     "execution_count": 21,
     "metadata": {},
     "output_type": "execute_result"
    }
   ],
   "source": [
    "df"
   ]
  },
  {
   "cell_type": "markdown",
   "id": "43404175-d6e6-42df-8bbd-066e9f132200",
   "metadata": {},
   "source": [
    "### Split the dataset into train and test dataset"
   ]
  },
  {
   "cell_type": "code",
   "execution_count": 22,
   "id": "2e8da1c8-3045-4c6b-943e-3e95066174fc",
   "metadata": {},
   "outputs": [],
   "source": [
    "from sklearn.model_selection import train_test_split"
   ]
  },
  {
   "cell_type": "code",
   "execution_count": 23,
   "id": "ea83ba1a-212e-45f8-81e9-4d3808da675d",
   "metadata": {},
   "outputs": [],
   "source": [
    "X = df[\"review_text\"].values"
   ]
  },
  {
   "cell_type": "code",
   "execution_count": 24,
   "id": "4f29a22f-a44d-4cdf-b684-6e5bb20aabbf",
   "metadata": {},
   "outputs": [],
   "source": [
    "y = df[\"is_recommended\"].values"
   ]
  },
  {
   "cell_type": "code",
   "execution_count": 25,
   "id": "2ebc1d4e-2397-4dbd-80da-363d6468ae9e",
   "metadata": {},
   "outputs": [],
   "source": [
    "X_train, X_test, y_train, y_test = train_test_split(\n",
    "    X, y, test_size=0.2, stratify=y, random_state=42)"
   ]
  },
  {
   "cell_type": "code",
   "execution_count": 26,
   "id": "e8177648-fda9-48e7-a91d-c1662059eea6",
   "metadata": {},
   "outputs": [],
   "source": [
    "from collections import Counter"
   ]
  },
  {
   "cell_type": "code",
   "execution_count": 27,
   "id": "9d7e4c68-1482-480d-970f-6f24279b59c1",
   "metadata": {},
   "outputs": [
    {
     "data": {
      "text/plain": [
       "Counter({1.0: 15840, 0.0: 15840})"
      ]
     },
     "execution_count": 27,
     "metadata": {},
     "output_type": "execute_result"
    }
   ],
   "source": [
    "Counter(y_train)"
   ]
  },
  {
   "cell_type": "code",
   "execution_count": 28,
   "id": "5e5063a6-a5bf-4b58-ad3d-ba550509711e",
   "metadata": {},
   "outputs": [
    {
     "data": {
      "text/plain": [
       "Counter({0.0: 3960, 1.0: 3960})"
      ]
     },
     "execution_count": 28,
     "metadata": {},
     "output_type": "execute_result"
    }
   ],
   "source": [
    "Counter(y_test)"
   ]
  },
  {
   "cell_type": "markdown",
   "id": "62daee27-edb6-4139-9457-801fa826154e",
   "metadata": {},
   "source": [
    "# Data preprocessing"
   ]
  },
  {
   "cell_type": "markdown",
   "id": "c0069ad9-cd16-4d62-be5b-6c4b154aa2dc",
   "metadata": {},
   "source": [
    "In the original data, each instance contains a review and its class label (0 for not recommended and 1 for recommended). We converted the comments to a sparse matrix of TF-IDF features using sklearn's TfidfVectorizer(). TF-IDF (Term Frequency Inverse Document Frequency) is a numeric statistic which is expected to reflect the importance of a term in a document in a collection/corpus. TF-IDF is calulcated as follows: tfidf(t,D) = tf(t,D)・log((1+N)/(1+df(t))), where tf(t,D) is the count of word t in document D and df(t) is the number of documents containing t. As can be seen in the equation, TF-IDF down-weights words that occur in many doccuments (e.g. \"the\", \"a\", \"is\") since those words carry little meaningful information about the actual contents of the document. Using TF-IDF, each review is represented as a numerical feature vector that indicates the tf-idf weighted frequency of terms."
   ]
  },
  {
   "cell_type": "code",
   "execution_count": 29,
   "id": "c5d82663-37fb-49f7-a9a6-aa1b38dc8a48",
   "metadata": {},
   "outputs": [],
   "source": [
    "from sklearn.feature_extraction.text import TfidfVectorizer"
   ]
  },
  {
   "cell_type": "code",
   "execution_count": 30,
   "id": "a75e5000-93a1-4343-b975-087d39e9e452",
   "metadata": {},
   "outputs": [],
   "source": [
    "tfidf = TfidfVectorizer()\n",
    "X_train_tfidf = tfidf.fit_transform(X_train)\n",
    "X_test_tfidf = tfidf.transform(X_test)\n",
    "feature_names = tfidf.get_feature_names_out()"
   ]
  },
  {
   "cell_type": "markdown",
   "id": "9d510365-d773-403e-b353-292b354daaae",
   "metadata": {},
   "source": [
    "# Model Training"
   ]
  },
  {
   "cell_type": "markdown",
   "id": "04e04788-83dd-41e6-a87f-26e2c5474294",
   "metadata": {},
   "source": [
    "## Hyperparameter tuning"
   ]
  },
  {
   "cell_type": "markdown",
   "id": "c6e1ec9a-8886-4542-928e-d534a31c2cd3",
   "metadata": {},
   "source": [
    "Linear SVC has a hyperparameter C, which is used to set the amount of regularization. We tuned the hyperparameter C through grid serach using GridseachCV from sklearn. Since the dataset used in this project is well-balanced between the two classes, and there is no preference between prioritizing correct classification of positive or negative reviews, we chose the C value that yields the highest accuracy. We first tried setting C as 0.01, 0.1, 1.0, 10.0, 100.0, 1000.0, 10000.0, 100000.0, 1000000.0, 10000000.0, 100000000.0, 1000000000.0, and 10000000000.0. After the first round of grid search, the linear SVC seemed to have higher accuracy when C was around 0.1~10, we conducted the second round of grid search with C set to 0.1, 0.316, 1.0, 3.16, and 10.0. As a result, the linear SVC had higher accuracy when C was between 0.2 and 0.7. Therefore, we conducted the final grid search with C set to 0.2, 0.3, 0.4, 0.5, 0.6, 0.7, and 0.8, resulting in the highest accuracy with C=0.3. Therefore, we chose 0.3 as the final value of C. "
   ]
  },
  {
   "cell_type": "code",
   "execution_count": 31,
   "id": "707ccf5a-3779-43e6-81b3-1cec52dcf7dc",
   "metadata": {},
   "outputs": [],
   "source": [
    "from sklearn.pipeline import make_pipeline\n",
    "from sklearn.svm import LinearSVC\n",
    "from sklearn.model_selection import GridSearchCV\n",
    "from sklearn.model_selection import cross_val_score\n",
    "import numpy as np\n",
    "from sklearn.model_selection import StratifiedShuffleSplit\n",
    "from sklearn.model_selection import StratifiedKFold"
   ]
  },
  {
   "cell_type": "code",
   "execution_count": 32,
   "id": "0d0853d1-8318-43f3-8522-fce600ed866d",
   "metadata": {},
   "outputs": [
    {
     "data": {
      "text/html": [
       "<style>#sk-container-id-1 {color: black;background-color: white;}#sk-container-id-1 pre{padding: 0;}#sk-container-id-1 div.sk-toggleable {background-color: white;}#sk-container-id-1 label.sk-toggleable__label {cursor: pointer;display: block;width: 100%;margin-bottom: 0;padding: 0.3em;box-sizing: border-box;text-align: center;}#sk-container-id-1 label.sk-toggleable__label-arrow:before {content: \"▸\";float: left;margin-right: 0.25em;color: #696969;}#sk-container-id-1 label.sk-toggleable__label-arrow:hover:before {color: black;}#sk-container-id-1 div.sk-estimator:hover label.sk-toggleable__label-arrow:before {color: black;}#sk-container-id-1 div.sk-toggleable__content {max-height: 0;max-width: 0;overflow: hidden;text-align: left;background-color: #f0f8ff;}#sk-container-id-1 div.sk-toggleable__content pre {margin: 0.2em;color: black;border-radius: 0.25em;background-color: #f0f8ff;}#sk-container-id-1 input.sk-toggleable__control:checked~div.sk-toggleable__content {max-height: 200px;max-width: 100%;overflow: auto;}#sk-container-id-1 input.sk-toggleable__control:checked~label.sk-toggleable__label-arrow:before {content: \"▾\";}#sk-container-id-1 div.sk-estimator input.sk-toggleable__control:checked~label.sk-toggleable__label {background-color: #d4ebff;}#sk-container-id-1 div.sk-label input.sk-toggleable__control:checked~label.sk-toggleable__label {background-color: #d4ebff;}#sk-container-id-1 input.sk-hidden--visually {border: 0;clip: rect(1px 1px 1px 1px);clip: rect(1px, 1px, 1px, 1px);height: 1px;margin: -1px;overflow: hidden;padding: 0;position: absolute;width: 1px;}#sk-container-id-1 div.sk-estimator {font-family: monospace;background-color: #f0f8ff;border: 1px dotted black;border-radius: 0.25em;box-sizing: border-box;margin-bottom: 0.5em;}#sk-container-id-1 div.sk-estimator:hover {background-color: #d4ebff;}#sk-container-id-1 div.sk-parallel-item::after {content: \"\";width: 100%;border-bottom: 1px solid gray;flex-grow: 1;}#sk-container-id-1 div.sk-label:hover label.sk-toggleable__label {background-color: #d4ebff;}#sk-container-id-1 div.sk-serial::before {content: \"\";position: absolute;border-left: 1px solid gray;box-sizing: border-box;top: 0;bottom: 0;left: 50%;z-index: 0;}#sk-container-id-1 div.sk-serial {display: flex;flex-direction: column;align-items: center;background-color: white;padding-right: 0.2em;padding-left: 0.2em;position: relative;}#sk-container-id-1 div.sk-item {position: relative;z-index: 1;}#sk-container-id-1 div.sk-parallel {display: flex;align-items: stretch;justify-content: center;background-color: white;position: relative;}#sk-container-id-1 div.sk-item::before, #sk-container-id-1 div.sk-parallel-item::before {content: \"\";position: absolute;border-left: 1px solid gray;box-sizing: border-box;top: 0;bottom: 0;left: 50%;z-index: -1;}#sk-container-id-1 div.sk-parallel-item {display: flex;flex-direction: column;z-index: 1;position: relative;background-color: white;}#sk-container-id-1 div.sk-parallel-item:first-child::after {align-self: flex-end;width: 50%;}#sk-container-id-1 div.sk-parallel-item:last-child::after {align-self: flex-start;width: 50%;}#sk-container-id-1 div.sk-parallel-item:only-child::after {width: 0;}#sk-container-id-1 div.sk-dashed-wrapped {border: 1px dashed gray;margin: 0 0.4em 0.5em 0.4em;box-sizing: border-box;padding-bottom: 0.4em;background-color: white;}#sk-container-id-1 div.sk-label label {font-family: monospace;font-weight: bold;display: inline-block;line-height: 1.2em;}#sk-container-id-1 div.sk-label-container {text-align: center;}#sk-container-id-1 div.sk-container {/* jupyter's `normalize.less` sets `[hidden] { display: none; }` but bootstrap.min.css set `[hidden] { display: none !important; }` so we also need the `!important` here to be able to override the default hidden behavior on the sphinx rendered scikit-learn.org. See: https://github.com/scikit-learn/scikit-learn/issues/21755 */display: inline-block !important;position: relative;}#sk-container-id-1 div.sk-text-repr-fallback {display: none;}</style><div id=\"sk-container-id-1\" class=\"sk-top-container\"><div class=\"sk-text-repr-fallback\"><pre>GridSearchCV(cv=5, estimator=LinearSVC(), n_jobs=-1,\n",
       "             param_grid={&#x27;C&#x27;: array([1.e-02, 1.e-01, 1.e+00, 1.e+01, 1.e+02, 1.e+03, 1.e+04, 1.e+05,\n",
       "       1.e+06, 1.e+07, 1.e+08, 1.e+09, 1.e+10])})</pre><b>In a Jupyter environment, please rerun this cell to show the HTML representation or trust the notebook. <br />On GitHub, the HTML representation is unable to render, please try loading this page with nbviewer.org.</b></div><div class=\"sk-container\" hidden><div class=\"sk-item sk-dashed-wrapped\"><div class=\"sk-label-container\"><div class=\"sk-label sk-toggleable\"><input class=\"sk-toggleable__control sk-hidden--visually\" id=\"sk-estimator-id-1\" type=\"checkbox\" ><label for=\"sk-estimator-id-1\" class=\"sk-toggleable__label sk-toggleable__label-arrow\">GridSearchCV</label><div class=\"sk-toggleable__content\"><pre>GridSearchCV(cv=5, estimator=LinearSVC(), n_jobs=-1,\n",
       "             param_grid={&#x27;C&#x27;: array([1.e-02, 1.e-01, 1.e+00, 1.e+01, 1.e+02, 1.e+03, 1.e+04, 1.e+05,\n",
       "       1.e+06, 1.e+07, 1.e+08, 1.e+09, 1.e+10])})</pre></div></div></div><div class=\"sk-parallel\"><div class=\"sk-parallel-item\"><div class=\"sk-item\"><div class=\"sk-label-container\"><div class=\"sk-label sk-toggleable\"><input class=\"sk-toggleable__control sk-hidden--visually\" id=\"sk-estimator-id-2\" type=\"checkbox\" ><label for=\"sk-estimator-id-2\" class=\"sk-toggleable__label sk-toggleable__label-arrow\">estimator: LinearSVC</label><div class=\"sk-toggleable__content\"><pre>LinearSVC()</pre></div></div></div><div class=\"sk-serial\"><div class=\"sk-item\"><div class=\"sk-estimator sk-toggleable\"><input class=\"sk-toggleable__control sk-hidden--visually\" id=\"sk-estimator-id-3\" type=\"checkbox\" ><label for=\"sk-estimator-id-3\" class=\"sk-toggleable__label sk-toggleable__label-arrow\">LinearSVC</label><div class=\"sk-toggleable__content\"><pre>LinearSVC()</pre></div></div></div></div></div></div></div></div></div></div>"
      ],
      "text/plain": [
       "GridSearchCV(cv=5, estimator=LinearSVC(), n_jobs=-1,\n",
       "             param_grid={'C': array([1.e-02, 1.e-01, 1.e+00, 1.e+01, 1.e+02, 1.e+03, 1.e+04, 1.e+05,\n",
       "       1.e+06, 1.e+07, 1.e+08, 1.e+09, 1.e+10])})"
      ]
     },
     "execution_count": 32,
     "metadata": {},
     "output_type": "execute_result"
    }
   ],
   "source": [
    "param_grid = {'C':np.logspace(-2, 10, 13)}\n",
    "grid_linear = GridSearchCV(LinearSVC(),param_grid, cv=5, n_jobs=-1)\n",
    "grid_linear.fit(X_train_tfidf,y_train)"
   ]
  },
  {
   "cell_type": "code",
   "execution_count": 33,
   "id": "ae2b4e26-64c9-4fe6-aaaa-6e66a146ff66",
   "metadata": {},
   "outputs": [
    {
     "data": {
      "text/html": [
       "<div>\n",
       "<style scoped>\n",
       "    .dataframe tbody tr th:only-of-type {\n",
       "        vertical-align: middle;\n",
       "    }\n",
       "\n",
       "    .dataframe tbody tr th {\n",
       "        vertical-align: top;\n",
       "    }\n",
       "\n",
       "    .dataframe thead th {\n",
       "        text-align: right;\n",
       "    }\n",
       "</style>\n",
       "<table border=\"1\" class=\"dataframe\">\n",
       "  <thead>\n",
       "    <tr style=\"text-align: right;\">\n",
       "      <th></th>\n",
       "      <th>C</th>\n",
       "      <th>Accuracy</th>\n",
       "      <th>Ranking</th>\n",
       "    </tr>\n",
       "  </thead>\n",
       "  <tbody>\n",
       "    <tr>\n",
       "      <th>0</th>\n",
       "      <td>0.01</td>\n",
       "      <td>0.8972</td>\n",
       "      <td>4.0</td>\n",
       "    </tr>\n",
       "    <tr>\n",
       "      <th>1</th>\n",
       "      <td>0.10</td>\n",
       "      <td>0.9229</td>\n",
       "      <td>1.0</td>\n",
       "    </tr>\n",
       "    <tr>\n",
       "      <th>2</th>\n",
       "      <td>1.00</td>\n",
       "      <td>0.9226</td>\n",
       "      <td>2.0</td>\n",
       "    </tr>\n",
       "    <tr>\n",
       "      <th>3</th>\n",
       "      <td>10.00</td>\n",
       "      <td>0.9062</td>\n",
       "      <td>3.0</td>\n",
       "    </tr>\n",
       "    <tr>\n",
       "      <th>4</th>\n",
       "      <td>100.00</td>\n",
       "      <td>0.8789</td>\n",
       "      <td>5.0</td>\n",
       "    </tr>\n",
       "    <tr>\n",
       "      <th>5</th>\n",
       "      <td>1000.00</td>\n",
       "      <td>0.8641</td>\n",
       "      <td>6.0</td>\n",
       "    </tr>\n",
       "    <tr>\n",
       "      <th>6</th>\n",
       "      <td>10000.00</td>\n",
       "      <td>0.8609</td>\n",
       "      <td>11.0</td>\n",
       "    </tr>\n",
       "    <tr>\n",
       "      <th>7</th>\n",
       "      <td>100000.00</td>\n",
       "      <td>0.8606</td>\n",
       "      <td>12.0</td>\n",
       "    </tr>\n",
       "    <tr>\n",
       "      <th>8</th>\n",
       "      <td>1000000.00</td>\n",
       "      <td>0.8620</td>\n",
       "      <td>8.0</td>\n",
       "    </tr>\n",
       "    <tr>\n",
       "      <th>9</th>\n",
       "      <td>10000000.00</td>\n",
       "      <td>0.8619</td>\n",
       "      <td>9.0</td>\n",
       "    </tr>\n",
       "    <tr>\n",
       "      <th>10</th>\n",
       "      <td>100000000.00</td>\n",
       "      <td>0.8632</td>\n",
       "      <td>7.0</td>\n",
       "    </tr>\n",
       "    <tr>\n",
       "      <th>11</th>\n",
       "      <td>1000000000.00</td>\n",
       "      <td>0.8618</td>\n",
       "      <td>10.0</td>\n",
       "    </tr>\n",
       "    <tr>\n",
       "      <th>12</th>\n",
       "      <td>10000000000.00</td>\n",
       "      <td>0.8595</td>\n",
       "      <td>13.0</td>\n",
       "    </tr>\n",
       "  </tbody>\n",
       "</table>\n",
       "</div>"
      ],
      "text/plain": [
       "                 C  Accuracy  Ranking\n",
       "0             0.01    0.8972      4.0\n",
       "1             0.10    0.9229      1.0\n",
       "2             1.00    0.9226      2.0\n",
       "3            10.00    0.9062      3.0\n",
       "4           100.00    0.8789      5.0\n",
       "5          1000.00    0.8641      6.0\n",
       "6         10000.00    0.8609     11.0\n",
       "7        100000.00    0.8606     12.0\n",
       "8       1000000.00    0.8620      8.0\n",
       "9      10000000.00    0.8619      9.0\n",
       "10    100000000.00    0.8632      7.0\n",
       "11   1000000000.00    0.8618     10.0\n",
       "12  10000000000.00    0.8595     13.0"
      ]
     },
     "execution_count": 33,
     "metadata": {},
     "output_type": "execute_result"
    }
   ],
   "source": [
    "summary = pd.DataFrame(\n",
    "    [grid_linear.cv_results_['param_C'], grid_linear.cv_results_['mean_test_score'].round(4),\n",
    "     grid_linear.cv_results_['rank_test_score']]).T.rename(columns={0:'C',1:'Accuracy', 2:'Ranking'})\n",
    "summary['C'] = summary['C'].map('{:.2f}'.format)\n",
    "summary"
   ]
  },
  {
   "cell_type": "markdown",
   "id": "17568fce-96b6-40eb-a32a-71d943d3c9d5",
   "metadata": {},
   "source": [
    "The classifier seemed to perform well when C was around 0.1~10. Therefore, will grid search C around that range."
   ]
  },
  {
   "cell_type": "code",
   "execution_count": 34,
   "id": "b4997097-2a69-4ac4-bbca-2720069c6f41",
   "metadata": {},
   "outputs": [
    {
     "data": {
      "text/html": [
       "<style>#sk-container-id-2 {color: black;background-color: white;}#sk-container-id-2 pre{padding: 0;}#sk-container-id-2 div.sk-toggleable {background-color: white;}#sk-container-id-2 label.sk-toggleable__label {cursor: pointer;display: block;width: 100%;margin-bottom: 0;padding: 0.3em;box-sizing: border-box;text-align: center;}#sk-container-id-2 label.sk-toggleable__label-arrow:before {content: \"▸\";float: left;margin-right: 0.25em;color: #696969;}#sk-container-id-2 label.sk-toggleable__label-arrow:hover:before {color: black;}#sk-container-id-2 div.sk-estimator:hover label.sk-toggleable__label-arrow:before {color: black;}#sk-container-id-2 div.sk-toggleable__content {max-height: 0;max-width: 0;overflow: hidden;text-align: left;background-color: #f0f8ff;}#sk-container-id-2 div.sk-toggleable__content pre {margin: 0.2em;color: black;border-radius: 0.25em;background-color: #f0f8ff;}#sk-container-id-2 input.sk-toggleable__control:checked~div.sk-toggleable__content {max-height: 200px;max-width: 100%;overflow: auto;}#sk-container-id-2 input.sk-toggleable__control:checked~label.sk-toggleable__label-arrow:before {content: \"▾\";}#sk-container-id-2 div.sk-estimator input.sk-toggleable__control:checked~label.sk-toggleable__label {background-color: #d4ebff;}#sk-container-id-2 div.sk-label input.sk-toggleable__control:checked~label.sk-toggleable__label {background-color: #d4ebff;}#sk-container-id-2 input.sk-hidden--visually {border: 0;clip: rect(1px 1px 1px 1px);clip: rect(1px, 1px, 1px, 1px);height: 1px;margin: -1px;overflow: hidden;padding: 0;position: absolute;width: 1px;}#sk-container-id-2 div.sk-estimator {font-family: monospace;background-color: #f0f8ff;border: 1px dotted black;border-radius: 0.25em;box-sizing: border-box;margin-bottom: 0.5em;}#sk-container-id-2 div.sk-estimator:hover {background-color: #d4ebff;}#sk-container-id-2 div.sk-parallel-item::after {content: \"\";width: 100%;border-bottom: 1px solid gray;flex-grow: 1;}#sk-container-id-2 div.sk-label:hover label.sk-toggleable__label {background-color: #d4ebff;}#sk-container-id-2 div.sk-serial::before {content: \"\";position: absolute;border-left: 1px solid gray;box-sizing: border-box;top: 0;bottom: 0;left: 50%;z-index: 0;}#sk-container-id-2 div.sk-serial {display: flex;flex-direction: column;align-items: center;background-color: white;padding-right: 0.2em;padding-left: 0.2em;position: relative;}#sk-container-id-2 div.sk-item {position: relative;z-index: 1;}#sk-container-id-2 div.sk-parallel {display: flex;align-items: stretch;justify-content: center;background-color: white;position: relative;}#sk-container-id-2 div.sk-item::before, #sk-container-id-2 div.sk-parallel-item::before {content: \"\";position: absolute;border-left: 1px solid gray;box-sizing: border-box;top: 0;bottom: 0;left: 50%;z-index: -1;}#sk-container-id-2 div.sk-parallel-item {display: flex;flex-direction: column;z-index: 1;position: relative;background-color: white;}#sk-container-id-2 div.sk-parallel-item:first-child::after {align-self: flex-end;width: 50%;}#sk-container-id-2 div.sk-parallel-item:last-child::after {align-self: flex-start;width: 50%;}#sk-container-id-2 div.sk-parallel-item:only-child::after {width: 0;}#sk-container-id-2 div.sk-dashed-wrapped {border: 1px dashed gray;margin: 0 0.4em 0.5em 0.4em;box-sizing: border-box;padding-bottom: 0.4em;background-color: white;}#sk-container-id-2 div.sk-label label {font-family: monospace;font-weight: bold;display: inline-block;line-height: 1.2em;}#sk-container-id-2 div.sk-label-container {text-align: center;}#sk-container-id-2 div.sk-container {/* jupyter's `normalize.less` sets `[hidden] { display: none; }` but bootstrap.min.css set `[hidden] { display: none !important; }` so we also need the `!important` here to be able to override the default hidden behavior on the sphinx rendered scikit-learn.org. See: https://github.com/scikit-learn/scikit-learn/issues/21755 */display: inline-block !important;position: relative;}#sk-container-id-2 div.sk-text-repr-fallback {display: none;}</style><div id=\"sk-container-id-2\" class=\"sk-top-container\"><div class=\"sk-text-repr-fallback\"><pre>GridSearchCV(cv=StratifiedShuffleSplit(n_splits=5, random_state=42, test_size=0.2,\n",
       "            train_size=None),\n",
       "             estimator=LinearSVC(), n_jobs=-1,\n",
       "             param_grid={&#x27;C&#x27;: array([ 0.1       ,  0.14677993,  0.21544347,  0.31622777,  0.46415888,\n",
       "        0.68129207,  1.        ,  1.46779927,  2.15443469,  3.16227766,\n",
       "        4.64158883,  6.81292069, 10.        ])})</pre><b>In a Jupyter environment, please rerun this cell to show the HTML representation or trust the notebook. <br />On GitHub, the HTML representation is unable to render, please try loading this page with nbviewer.org.</b></div><div class=\"sk-container\" hidden><div class=\"sk-item sk-dashed-wrapped\"><div class=\"sk-label-container\"><div class=\"sk-label sk-toggleable\"><input class=\"sk-toggleable__control sk-hidden--visually\" id=\"sk-estimator-id-4\" type=\"checkbox\" ><label for=\"sk-estimator-id-4\" class=\"sk-toggleable__label sk-toggleable__label-arrow\">GridSearchCV</label><div class=\"sk-toggleable__content\"><pre>GridSearchCV(cv=StratifiedShuffleSplit(n_splits=5, random_state=42, test_size=0.2,\n",
       "            train_size=None),\n",
       "             estimator=LinearSVC(), n_jobs=-1,\n",
       "             param_grid={&#x27;C&#x27;: array([ 0.1       ,  0.14677993,  0.21544347,  0.31622777,  0.46415888,\n",
       "        0.68129207,  1.        ,  1.46779927,  2.15443469,  3.16227766,\n",
       "        4.64158883,  6.81292069, 10.        ])})</pre></div></div></div><div class=\"sk-parallel\"><div class=\"sk-parallel-item\"><div class=\"sk-item\"><div class=\"sk-label-container\"><div class=\"sk-label sk-toggleable\"><input class=\"sk-toggleable__control sk-hidden--visually\" id=\"sk-estimator-id-5\" type=\"checkbox\" ><label for=\"sk-estimator-id-5\" class=\"sk-toggleable__label sk-toggleable__label-arrow\">estimator: LinearSVC</label><div class=\"sk-toggleable__content\"><pre>LinearSVC()</pre></div></div></div><div class=\"sk-serial\"><div class=\"sk-item\"><div class=\"sk-estimator sk-toggleable\"><input class=\"sk-toggleable__control sk-hidden--visually\" id=\"sk-estimator-id-6\" type=\"checkbox\" ><label for=\"sk-estimator-id-6\" class=\"sk-toggleable__label sk-toggleable__label-arrow\">LinearSVC</label><div class=\"sk-toggleable__content\"><pre>LinearSVC()</pre></div></div></div></div></div></div></div></div></div></div>"
      ],
      "text/plain": [
       "GridSearchCV(cv=StratifiedShuffleSplit(n_splits=5, random_state=42, test_size=0.2,\n",
       "            train_size=None),\n",
       "             estimator=LinearSVC(), n_jobs=-1,\n",
       "             param_grid={'C': array([ 0.1       ,  0.14677993,  0.21544347,  0.31622777,  0.46415888,\n",
       "        0.68129207,  1.        ,  1.46779927,  2.15443469,  3.16227766,\n",
       "        4.64158883,  6.81292069, 10.        ])})"
      ]
     },
     "execution_count": 34,
     "metadata": {},
     "output_type": "execute_result"
    }
   ],
   "source": [
    "param_grid = { 'C':np.logspace(-1, 1, 13)}\n",
    "cv = StratifiedShuffleSplit(n_splits=5, test_size=0.2, random_state=42)\n",
    "grid_linear = GridSearchCV(LinearSVC(),param_grid, cv=cv, n_jobs=-1)\n",
    "grid_linear.fit(X_train_tfidf,y_train)"
   ]
  },
  {
   "cell_type": "code",
   "execution_count": 35,
   "id": "46163257-2054-48e8-b4e3-50b010ca998e",
   "metadata": {},
   "outputs": [
    {
     "data": {
      "text/html": [
       "<div>\n",
       "<style scoped>\n",
       "    .dataframe tbody tr th:only-of-type {\n",
       "        vertical-align: middle;\n",
       "    }\n",
       "\n",
       "    .dataframe tbody tr th {\n",
       "        vertical-align: top;\n",
       "    }\n",
       "\n",
       "    .dataframe thead th {\n",
       "        text-align: right;\n",
       "    }\n",
       "</style>\n",
       "<table border=\"1\" class=\"dataframe\">\n",
       "  <thead>\n",
       "    <tr style=\"text-align: right;\">\n",
       "      <th></th>\n",
       "      <th>C</th>\n",
       "      <th>Accuracy</th>\n",
       "      <th>Ranking</th>\n",
       "    </tr>\n",
       "  </thead>\n",
       "  <tbody>\n",
       "    <tr>\n",
       "      <th>0</th>\n",
       "      <td>0.100000</td>\n",
       "      <td>0.9248</td>\n",
       "      <td>5.0</td>\n",
       "    </tr>\n",
       "    <tr>\n",
       "      <th>1</th>\n",
       "      <td>0.146780</td>\n",
       "      <td>0.9257</td>\n",
       "      <td>2.0</td>\n",
       "    </tr>\n",
       "    <tr>\n",
       "      <th>2</th>\n",
       "      <td>0.215443</td>\n",
       "      <td>0.9257</td>\n",
       "      <td>2.0</td>\n",
       "    </tr>\n",
       "    <tr>\n",
       "      <th>3</th>\n",
       "      <td>0.316228</td>\n",
       "      <td>0.9260</td>\n",
       "      <td>1.0</td>\n",
       "    </tr>\n",
       "    <tr>\n",
       "      <th>4</th>\n",
       "      <td>0.464159</td>\n",
       "      <td>0.9257</td>\n",
       "      <td>4.0</td>\n",
       "    </tr>\n",
       "    <tr>\n",
       "      <th>5</th>\n",
       "      <td>0.681292</td>\n",
       "      <td>0.9242</td>\n",
       "      <td>6.0</td>\n",
       "    </tr>\n",
       "    <tr>\n",
       "      <th>6</th>\n",
       "      <td>1.000000</td>\n",
       "      <td>0.9222</td>\n",
       "      <td>7.0</td>\n",
       "    </tr>\n",
       "    <tr>\n",
       "      <th>7</th>\n",
       "      <td>1.467799</td>\n",
       "      <td>0.9207</td>\n",
       "      <td>8.0</td>\n",
       "    </tr>\n",
       "    <tr>\n",
       "      <th>8</th>\n",
       "      <td>2.154435</td>\n",
       "      <td>0.9190</td>\n",
       "      <td>9.0</td>\n",
       "    </tr>\n",
       "    <tr>\n",
       "      <th>9</th>\n",
       "      <td>3.162278</td>\n",
       "      <td>0.9158</td>\n",
       "      <td>10.0</td>\n",
       "    </tr>\n",
       "    <tr>\n",
       "      <th>10</th>\n",
       "      <td>4.641589</td>\n",
       "      <td>0.9130</td>\n",
       "      <td>11.0</td>\n",
       "    </tr>\n",
       "    <tr>\n",
       "      <th>11</th>\n",
       "      <td>6.812921</td>\n",
       "      <td>0.9097</td>\n",
       "      <td>12.0</td>\n",
       "    </tr>\n",
       "    <tr>\n",
       "      <th>12</th>\n",
       "      <td>10.000000</td>\n",
       "      <td>0.9057</td>\n",
       "      <td>13.0</td>\n",
       "    </tr>\n",
       "  </tbody>\n",
       "</table>\n",
       "</div>"
      ],
      "text/plain": [
       "            C  Accuracy  Ranking\n",
       "0    0.100000    0.9248      5.0\n",
       "1    0.146780    0.9257      2.0\n",
       "2    0.215443    0.9257      2.0\n",
       "3    0.316228    0.9260      1.0\n",
       "4    0.464159    0.9257      4.0\n",
       "5    0.681292    0.9242      6.0\n",
       "6    1.000000    0.9222      7.0\n",
       "7    1.467799    0.9207      8.0\n",
       "8    2.154435    0.9190      9.0\n",
       "9    3.162278    0.9158     10.0\n",
       "10   4.641589    0.9130     11.0\n",
       "11   6.812921    0.9097     12.0\n",
       "12  10.000000    0.9057     13.0"
      ]
     },
     "execution_count": 35,
     "metadata": {},
     "output_type": "execute_result"
    }
   ],
   "source": [
    "pd.DataFrame(\n",
    "    [grid_linear.cv_results_['param_C'], grid_linear.cv_results_['mean_test_score'].round(4),\n",
    "     grid_linear.cv_results_['rank_test_score']]).T.rename(columns={0:'C',1:'Accuracy', 2:'Ranking'})"
   ]
  },
  {
   "cell_type": "markdown",
   "id": "124245aa-ac7a-4001-a93e-5eacf8c80b27",
   "metadata": {},
   "source": [
    "The classifier seems to perform better when C is around 0.2 ~ 0.7. We will further grid search the C in that range."
   ]
  },
  {
   "cell_type": "code",
   "execution_count": 36,
   "id": "97c9c08b-ba07-4557-8764-3657051c13f1",
   "metadata": {},
   "outputs": [
    {
     "data": {
      "text/html": [
       "<style>#sk-container-id-3 {color: black;background-color: white;}#sk-container-id-3 pre{padding: 0;}#sk-container-id-3 div.sk-toggleable {background-color: white;}#sk-container-id-3 label.sk-toggleable__label {cursor: pointer;display: block;width: 100%;margin-bottom: 0;padding: 0.3em;box-sizing: border-box;text-align: center;}#sk-container-id-3 label.sk-toggleable__label-arrow:before {content: \"▸\";float: left;margin-right: 0.25em;color: #696969;}#sk-container-id-3 label.sk-toggleable__label-arrow:hover:before {color: black;}#sk-container-id-3 div.sk-estimator:hover label.sk-toggleable__label-arrow:before {color: black;}#sk-container-id-3 div.sk-toggleable__content {max-height: 0;max-width: 0;overflow: hidden;text-align: left;background-color: #f0f8ff;}#sk-container-id-3 div.sk-toggleable__content pre {margin: 0.2em;color: black;border-radius: 0.25em;background-color: #f0f8ff;}#sk-container-id-3 input.sk-toggleable__control:checked~div.sk-toggleable__content {max-height: 200px;max-width: 100%;overflow: auto;}#sk-container-id-3 input.sk-toggleable__control:checked~label.sk-toggleable__label-arrow:before {content: \"▾\";}#sk-container-id-3 div.sk-estimator input.sk-toggleable__control:checked~label.sk-toggleable__label {background-color: #d4ebff;}#sk-container-id-3 div.sk-label input.sk-toggleable__control:checked~label.sk-toggleable__label {background-color: #d4ebff;}#sk-container-id-3 input.sk-hidden--visually {border: 0;clip: rect(1px 1px 1px 1px);clip: rect(1px, 1px, 1px, 1px);height: 1px;margin: -1px;overflow: hidden;padding: 0;position: absolute;width: 1px;}#sk-container-id-3 div.sk-estimator {font-family: monospace;background-color: #f0f8ff;border: 1px dotted black;border-radius: 0.25em;box-sizing: border-box;margin-bottom: 0.5em;}#sk-container-id-3 div.sk-estimator:hover {background-color: #d4ebff;}#sk-container-id-3 div.sk-parallel-item::after {content: \"\";width: 100%;border-bottom: 1px solid gray;flex-grow: 1;}#sk-container-id-3 div.sk-label:hover label.sk-toggleable__label {background-color: #d4ebff;}#sk-container-id-3 div.sk-serial::before {content: \"\";position: absolute;border-left: 1px solid gray;box-sizing: border-box;top: 0;bottom: 0;left: 50%;z-index: 0;}#sk-container-id-3 div.sk-serial {display: flex;flex-direction: column;align-items: center;background-color: white;padding-right: 0.2em;padding-left: 0.2em;position: relative;}#sk-container-id-3 div.sk-item {position: relative;z-index: 1;}#sk-container-id-3 div.sk-parallel {display: flex;align-items: stretch;justify-content: center;background-color: white;position: relative;}#sk-container-id-3 div.sk-item::before, #sk-container-id-3 div.sk-parallel-item::before {content: \"\";position: absolute;border-left: 1px solid gray;box-sizing: border-box;top: 0;bottom: 0;left: 50%;z-index: -1;}#sk-container-id-3 div.sk-parallel-item {display: flex;flex-direction: column;z-index: 1;position: relative;background-color: white;}#sk-container-id-3 div.sk-parallel-item:first-child::after {align-self: flex-end;width: 50%;}#sk-container-id-3 div.sk-parallel-item:last-child::after {align-self: flex-start;width: 50%;}#sk-container-id-3 div.sk-parallel-item:only-child::after {width: 0;}#sk-container-id-3 div.sk-dashed-wrapped {border: 1px dashed gray;margin: 0 0.4em 0.5em 0.4em;box-sizing: border-box;padding-bottom: 0.4em;background-color: white;}#sk-container-id-3 div.sk-label label {font-family: monospace;font-weight: bold;display: inline-block;line-height: 1.2em;}#sk-container-id-3 div.sk-label-container {text-align: center;}#sk-container-id-3 div.sk-container {/* jupyter's `normalize.less` sets `[hidden] { display: none; }` but bootstrap.min.css set `[hidden] { display: none !important; }` so we also need the `!important` here to be able to override the default hidden behavior on the sphinx rendered scikit-learn.org. See: https://github.com/scikit-learn/scikit-learn/issues/21755 */display: inline-block !important;position: relative;}#sk-container-id-3 div.sk-text-repr-fallback {display: none;}</style><div id=\"sk-container-id-3\" class=\"sk-top-container\"><div class=\"sk-text-repr-fallback\"><pre>GridSearchCV(cv=5, estimator=LinearSVC(max_iter=10000), n_jobs=-1,\n",
       "             param_grid={&#x27;C&#x27;: array([0.2, 0.3, 0.4, 0.5, 0.6, 0.7, 0.8])})</pre><b>In a Jupyter environment, please rerun this cell to show the HTML representation or trust the notebook. <br />On GitHub, the HTML representation is unable to render, please try loading this page with nbviewer.org.</b></div><div class=\"sk-container\" hidden><div class=\"sk-item sk-dashed-wrapped\"><div class=\"sk-label-container\"><div class=\"sk-label sk-toggleable\"><input class=\"sk-toggleable__control sk-hidden--visually\" id=\"sk-estimator-id-7\" type=\"checkbox\" ><label for=\"sk-estimator-id-7\" class=\"sk-toggleable__label sk-toggleable__label-arrow\">GridSearchCV</label><div class=\"sk-toggleable__content\"><pre>GridSearchCV(cv=5, estimator=LinearSVC(max_iter=10000), n_jobs=-1,\n",
       "             param_grid={&#x27;C&#x27;: array([0.2, 0.3, 0.4, 0.5, 0.6, 0.7, 0.8])})</pre></div></div></div><div class=\"sk-parallel\"><div class=\"sk-parallel-item\"><div class=\"sk-item\"><div class=\"sk-label-container\"><div class=\"sk-label sk-toggleable\"><input class=\"sk-toggleable__control sk-hidden--visually\" id=\"sk-estimator-id-8\" type=\"checkbox\" ><label for=\"sk-estimator-id-8\" class=\"sk-toggleable__label sk-toggleable__label-arrow\">estimator: LinearSVC</label><div class=\"sk-toggleable__content\"><pre>LinearSVC(max_iter=10000)</pre></div></div></div><div class=\"sk-serial\"><div class=\"sk-item\"><div class=\"sk-estimator sk-toggleable\"><input class=\"sk-toggleable__control sk-hidden--visually\" id=\"sk-estimator-id-9\" type=\"checkbox\" ><label for=\"sk-estimator-id-9\" class=\"sk-toggleable__label sk-toggleable__label-arrow\">LinearSVC</label><div class=\"sk-toggleable__content\"><pre>LinearSVC(max_iter=10000)</pre></div></div></div></div></div></div></div></div></div></div>"
      ],
      "text/plain": [
       "GridSearchCV(cv=5, estimator=LinearSVC(max_iter=10000), n_jobs=-1,\n",
       "             param_grid={'C': array([0.2, 0.3, 0.4, 0.5, 0.6, 0.7, 0.8])})"
      ]
     },
     "execution_count": 36,
     "metadata": {},
     "output_type": "execute_result"
    }
   ],
   "source": [
    "param_grid = { 'C':np.arange(0.2,0.8,0.1)}\n",
    "grid_linear = GridSearchCV(LinearSVC(max_iter=10000),param_grid, cv=5, n_jobs=-1)\n",
    "grid_linear.fit(X_train_tfidf,y_train)"
   ]
  },
  {
   "cell_type": "code",
   "execution_count": 37,
   "id": "2c5afe27-d5a3-41ca-a794-d0e0b0ef746f",
   "metadata": {},
   "outputs": [
    {
     "data": {
      "text/html": [
       "<div>\n",
       "<style scoped>\n",
       "    .dataframe tbody tr th:only-of-type {\n",
       "        vertical-align: middle;\n",
       "    }\n",
       "\n",
       "    .dataframe tbody tr th {\n",
       "        vertical-align: top;\n",
       "    }\n",
       "\n",
       "    .dataframe thead th {\n",
       "        text-align: right;\n",
       "    }\n",
       "</style>\n",
       "<table border=\"1\" class=\"dataframe\">\n",
       "  <thead>\n",
       "    <tr style=\"text-align: right;\">\n",
       "      <th></th>\n",
       "      <th>C</th>\n",
       "      <th>Accuracy</th>\n",
       "      <th>Ranking</th>\n",
       "    </tr>\n",
       "  </thead>\n",
       "  <tbody>\n",
       "    <tr>\n",
       "      <th>0</th>\n",
       "      <td>0.2</td>\n",
       "      <td>0.92446</td>\n",
       "      <td>4.0</td>\n",
       "    </tr>\n",
       "    <tr>\n",
       "      <th>1</th>\n",
       "      <td>0.3</td>\n",
       "      <td>0.92541</td>\n",
       "      <td>1.0</td>\n",
       "    </tr>\n",
       "    <tr>\n",
       "      <th>2</th>\n",
       "      <td>0.4</td>\n",
       "      <td>0.92484</td>\n",
       "      <td>2.0</td>\n",
       "    </tr>\n",
       "    <tr>\n",
       "      <th>3</th>\n",
       "      <td>0.5</td>\n",
       "      <td>0.92481</td>\n",
       "      <td>3.0</td>\n",
       "    </tr>\n",
       "    <tr>\n",
       "      <th>4</th>\n",
       "      <td>0.6</td>\n",
       "      <td>0.92434</td>\n",
       "      <td>5.0</td>\n",
       "    </tr>\n",
       "    <tr>\n",
       "      <th>5</th>\n",
       "      <td>0.7</td>\n",
       "      <td>0.92390</td>\n",
       "      <td>6.0</td>\n",
       "    </tr>\n",
       "    <tr>\n",
       "      <th>6</th>\n",
       "      <td>0.8</td>\n",
       "      <td>0.92371</td>\n",
       "      <td>7.0</td>\n",
       "    </tr>\n",
       "  </tbody>\n",
       "</table>\n",
       "</div>"
      ],
      "text/plain": [
       "     C  Accuracy  Ranking\n",
       "0  0.2   0.92446      4.0\n",
       "1  0.3   0.92541      1.0\n",
       "2  0.4   0.92484      2.0\n",
       "3  0.5   0.92481      3.0\n",
       "4  0.6   0.92434      5.0\n",
       "5  0.7   0.92390      6.0\n",
       "6  0.8   0.92371      7.0"
      ]
     },
     "execution_count": 37,
     "metadata": {},
     "output_type": "execute_result"
    }
   ],
   "source": [
    "pd.DataFrame(\n",
    "    [grid_linear.cv_results_['param_C'], grid_linear.cv_results_['mean_test_score'].round(5),\n",
    "     grid_linear.cv_results_['rank_test_score']]).T.rename(columns={0:'C',1:'Accuracy', 2:'Ranking'})"
   ]
  },
  {
   "cell_type": "markdown",
   "id": "889050dc-65a4-4798-bde3-7ed329aa6969",
   "metadata": {},
   "source": [
    "Although there is not much difference in accuracy among the different values of C between 0.2 and 0.8, C = 0.3 seems to be the best. So now we will conduct cross-validation with C=0.3 and check average accuracy, f1 score, precision, and recall to observe over all performance of the model on training data."
   ]
  },
  {
   "cell_type": "code",
   "execution_count": 38,
   "id": "04fcd740-49ab-48dd-971c-fd12ae4fdf9e",
   "metadata": {},
   "outputs": [],
   "source": [
    "from sklearn.model_selection import cross_validate"
   ]
  },
  {
   "cell_type": "code",
   "execution_count": 39,
   "id": "8ba6c530-cc98-4c89-833f-ba2349ce0ae0",
   "metadata": {},
   "outputs": [],
   "source": [
    "svc = LinearSVC(C=0.3)"
   ]
  },
  {
   "cell_type": "code",
   "execution_count": 40,
   "id": "cf889fb1-d10e-4f4d-bad2-b532f0cb883b",
   "metadata": {},
   "outputs": [],
   "source": [
    "cv_score = cross_validate(svc, X_train_tfidf, y_train, cv=5, scoring=('accuracy', 'f1', 'precision', 'recall'))"
   ]
  },
  {
   "cell_type": "code",
   "execution_count": 41,
   "id": "950626f5-7d2a-4f04-837d-8ac7e760cc1a",
   "metadata": {},
   "outputs": [
    {
     "name": "stdout",
     "output_type": "stream",
     "text": [
      "Average Accuracy:  0.924810606060606\n",
      "Average F1:  0.9243604836921773\n",
      "Average Precision:  0.9299166255291098\n",
      "Average Recall:  0.9188762626262627\n"
     ]
    }
   ],
   "source": [
    "print(\"Average Accuracy: \", np.mean(cv_score['test_accuracy']))\n",
    "print(\"Average F1: \", np.mean(cv_score['test_f1']))\n",
    "print(\"Average Precision: \", np.mean(cv_score['test_precision']))\n",
    "print(\"Average Recall: \", np.mean(cv_score['test_recall']))"
   ]
  },
  {
   "cell_type": "markdown",
   "id": "870a49ef-1355-4fbe-bfb9-bb1a0e44608c",
   "metadata": {},
   "source": [
    "The result of the cross-validation shows that the model has fairly high average accuracy of 0.925 and fairly high average f1 score of 0.924. The average precision and recall are about the same, indicating that the model classifies both positive and negative reviews equally well."
   ]
  },
  {
   "cell_type": "markdown",
   "id": "84d08bdf-ab98-4947-87ee-22ce9b921c57",
   "metadata": {},
   "source": [
    "## Model Training with the Tuned Hyperparameter C=0.5"
   ]
  },
  {
   "cell_type": "code",
   "execution_count": 67,
   "id": "2a5d83b8-c41e-48b0-8709-a3d6bdabcdcc",
   "metadata": {},
   "outputs": [],
   "source": [
    "svc = LinearSVC(C=0.3)"
   ]
  },
  {
   "cell_type": "code",
   "execution_count": 68,
   "id": "57acfd7b-7bbd-4dbb-b8ca-256119d862ec",
   "metadata": {},
   "outputs": [
    {
     "data": {
      "text/html": [
       "<style>#sk-container-id-6 {color: black;background-color: white;}#sk-container-id-6 pre{padding: 0;}#sk-container-id-6 div.sk-toggleable {background-color: white;}#sk-container-id-6 label.sk-toggleable__label {cursor: pointer;display: block;width: 100%;margin-bottom: 0;padding: 0.3em;box-sizing: border-box;text-align: center;}#sk-container-id-6 label.sk-toggleable__label-arrow:before {content: \"▸\";float: left;margin-right: 0.25em;color: #696969;}#sk-container-id-6 label.sk-toggleable__label-arrow:hover:before {color: black;}#sk-container-id-6 div.sk-estimator:hover label.sk-toggleable__label-arrow:before {color: black;}#sk-container-id-6 div.sk-toggleable__content {max-height: 0;max-width: 0;overflow: hidden;text-align: left;background-color: #f0f8ff;}#sk-container-id-6 div.sk-toggleable__content pre {margin: 0.2em;color: black;border-radius: 0.25em;background-color: #f0f8ff;}#sk-container-id-6 input.sk-toggleable__control:checked~div.sk-toggleable__content {max-height: 200px;max-width: 100%;overflow: auto;}#sk-container-id-6 input.sk-toggleable__control:checked~label.sk-toggleable__label-arrow:before {content: \"▾\";}#sk-container-id-6 div.sk-estimator input.sk-toggleable__control:checked~label.sk-toggleable__label {background-color: #d4ebff;}#sk-container-id-6 div.sk-label input.sk-toggleable__control:checked~label.sk-toggleable__label {background-color: #d4ebff;}#sk-container-id-6 input.sk-hidden--visually {border: 0;clip: rect(1px 1px 1px 1px);clip: rect(1px, 1px, 1px, 1px);height: 1px;margin: -1px;overflow: hidden;padding: 0;position: absolute;width: 1px;}#sk-container-id-6 div.sk-estimator {font-family: monospace;background-color: #f0f8ff;border: 1px dotted black;border-radius: 0.25em;box-sizing: border-box;margin-bottom: 0.5em;}#sk-container-id-6 div.sk-estimator:hover {background-color: #d4ebff;}#sk-container-id-6 div.sk-parallel-item::after {content: \"\";width: 100%;border-bottom: 1px solid gray;flex-grow: 1;}#sk-container-id-6 div.sk-label:hover label.sk-toggleable__label {background-color: #d4ebff;}#sk-container-id-6 div.sk-serial::before {content: \"\";position: absolute;border-left: 1px solid gray;box-sizing: border-box;top: 0;bottom: 0;left: 50%;z-index: 0;}#sk-container-id-6 div.sk-serial {display: flex;flex-direction: column;align-items: center;background-color: white;padding-right: 0.2em;padding-left: 0.2em;position: relative;}#sk-container-id-6 div.sk-item {position: relative;z-index: 1;}#sk-container-id-6 div.sk-parallel {display: flex;align-items: stretch;justify-content: center;background-color: white;position: relative;}#sk-container-id-6 div.sk-item::before, #sk-container-id-6 div.sk-parallel-item::before {content: \"\";position: absolute;border-left: 1px solid gray;box-sizing: border-box;top: 0;bottom: 0;left: 50%;z-index: -1;}#sk-container-id-6 div.sk-parallel-item {display: flex;flex-direction: column;z-index: 1;position: relative;background-color: white;}#sk-container-id-6 div.sk-parallel-item:first-child::after {align-self: flex-end;width: 50%;}#sk-container-id-6 div.sk-parallel-item:last-child::after {align-self: flex-start;width: 50%;}#sk-container-id-6 div.sk-parallel-item:only-child::after {width: 0;}#sk-container-id-6 div.sk-dashed-wrapped {border: 1px dashed gray;margin: 0 0.4em 0.5em 0.4em;box-sizing: border-box;padding-bottom: 0.4em;background-color: white;}#sk-container-id-6 div.sk-label label {font-family: monospace;font-weight: bold;display: inline-block;line-height: 1.2em;}#sk-container-id-6 div.sk-label-container {text-align: center;}#sk-container-id-6 div.sk-container {/* jupyter's `normalize.less` sets `[hidden] { display: none; }` but bootstrap.min.css set `[hidden] { display: none !important; }` so we also need the `!important` here to be able to override the default hidden behavior on the sphinx rendered scikit-learn.org. See: https://github.com/scikit-learn/scikit-learn/issues/21755 */display: inline-block !important;position: relative;}#sk-container-id-6 div.sk-text-repr-fallback {display: none;}</style><div id=\"sk-container-id-6\" class=\"sk-top-container\"><div class=\"sk-text-repr-fallback\"><pre>LinearSVC(C=0.3)</pre><b>In a Jupyter environment, please rerun this cell to show the HTML representation or trust the notebook. <br />On GitHub, the HTML representation is unable to render, please try loading this page with nbviewer.org.</b></div><div class=\"sk-container\" hidden><div class=\"sk-item\"><div class=\"sk-estimator sk-toggleable\"><input class=\"sk-toggleable__control sk-hidden--visually\" id=\"sk-estimator-id-12\" type=\"checkbox\" checked><label for=\"sk-estimator-id-12\" class=\"sk-toggleable__label sk-toggleable__label-arrow\">LinearSVC</label><div class=\"sk-toggleable__content\"><pre>LinearSVC(C=0.3)</pre></div></div></div></div></div>"
      ],
      "text/plain": [
       "LinearSVC(C=0.3)"
      ]
     },
     "execution_count": 68,
     "metadata": {},
     "output_type": "execute_result"
    }
   ],
   "source": [
    "svc.fit(X_train_tfidf, y_train)"
   ]
  },
  {
   "cell_type": "markdown",
   "id": "1b71475d-5466-422b-8613-c5247f6cfe03",
   "metadata": {},
   "source": [
    "# Model Evaluation"
   ]
  },
  {
   "cell_type": "markdown",
   "id": "5f9e15a2-29a0-4917-a771-eaba42605395",
   "metadata": {},
   "source": [
    "We evaluate the performance of the trained model using accuracy as the data is well-balanced between the two classes and there is no preference between prioritizing correct classifications of positive or negative reviews in this project."
   ]
  },
  {
   "cell_type": "markdown",
   "id": "67a09ad4-c71e-405d-9150-24199db1a401",
   "metadata": {},
   "source": [
    "## Testing the trained model on the test data"
   ]
  },
  {
   "cell_type": "code",
   "execution_count": 44,
   "id": "d0ef280c-a1f0-4280-bad0-d826bd6aec6c",
   "metadata": {},
   "outputs": [],
   "source": [
    "y_hat = svc.predict(X_test_tfidf)"
   ]
  },
  {
   "cell_type": "markdown",
   "id": "1986f086-45a1-4505-a4f3-e77d4ad2e2b6",
   "metadata": {},
   "source": [
    "## The Test Accuracy"
   ]
  },
  {
   "cell_type": "code",
   "execution_count": 45,
   "id": "b932906a-23bd-48c0-bf03-00cc114c54ae",
   "metadata": {},
   "outputs": [
    {
     "name": "stdout",
     "output_type": "stream",
     "text": [
      "Accuracy: 0.9274\n"
     ]
    }
   ],
   "source": [
    "from sklearn.metrics import accuracy_score\n",
    "print(\"Accuracy:\", accuracy_score(y_test, y_hat).round(4))"
   ]
  },
  {
   "cell_type": "markdown",
   "id": "50128863-0f24-4228-b022-29779ca216f3",
   "metadata": {},
   "source": [
    "## Confusion Matrix"
   ]
  },
  {
   "cell_type": "code",
   "execution_count": 46,
   "id": "7bced879-77e4-4387-af93-ecb66dce6de0",
   "metadata": {},
   "outputs": [],
   "source": [
    "from sklearn.metrics import confusion_matrix"
   ]
  },
  {
   "cell_type": "code",
   "execution_count": 47,
   "id": "d51b2d35-299a-4976-8104-49532f0e280a",
   "metadata": {},
   "outputs": [
    {
     "data": {
      "image/png": "[encoded data removed]",
      "text/plain": [
       "<Figure size 700x700 with 2 Axes>"
      ]
     },
     "metadata": {},
     "output_type": "display_data"
    }
   ],
   "source": [
    "score = accuracy_score(y_test, y_hat)\n",
    "cm = confusion_matrix(y_test, y_hat)\n",
    "plt.figure(figsize=(7,7))\n",
    "sns.heatmap(cm, annot=True, linewidths=.5, square = True, cmap = 'Blues',\n",
    "            xticklabels=['not recommended', 'recommended'], yticklabels=['not recommended', 'recommended'], fmt=\"d\")\n",
    "plt.ylabel('Actual label', size=13)\n",
    "plt.xlabel('Predicted label', size=13)\n",
    "\n",
    "all_sample_title = 'Accuracy Score: {:.4f}'.format(score)\n",
    "plt.title(all_sample_title, size = 15)\n",
    "plt.show();"
   ]
  },
  {
   "cell_type": "markdown",
   "id": "1d20e676-2059-4568-8cea-ea71092b3c81",
   "metadata": {},
   "source": [
    "The accuracy of the model on the test data was 0.9274, indicating high performance on correctly classifying the test data. Additionally, the confusion matrix shows that the model classified the positive and negative reviews fairly equally well."
   ]
  },
  {
   "cell_type": "markdown",
   "id": "8373bb2a-4751-4048-aeda-0a25a6d919d6",
   "metadata": {},
   "source": [
    "### ROC curve"
   ]
  },
  {
   "cell_type": "markdown",
   "id": "6bb3c037-85b8-45c6-8cfc-03e9bba2b5f2",
   "metadata": {},
   "source": [
    "To evaluate the model further, the ROC curve was used. This is a graph of false positive rate versus true positive rate, where the false positive rate is the proportion of false positives among the negative instances and the true positive rate is the proportion of true positives among the positive instances. The area underneath this curve was then calculated as the AUC, where a perfect model has a value of 1."
   ]
  },
  {
   "cell_type": "code",
   "execution_count": 69,
   "id": "8054e207-e9ac-4cea-af7a-944ea114c00f",
   "metadata": {},
   "outputs": [],
   "source": [
    "from sklearn import metrics"
   ]
  },
  {
   "cell_type": "code",
   "execution_count": 70,
   "id": "f973bd0c-fbb5-4c42-b402-b92330685dda",
   "metadata": {},
   "outputs": [],
   "source": [
    "fpr, tpr, thresholds = metrics.roc_curve(y_test, svc.decision_function(X_test_tfidf))\n",
    "roc_auc = metrics.auc(fpr, tpr)\n",
    "display = metrics.RocCurveDisplay(fpr=fpr, tpr=tpr, roc_auc=roc_auc)"
   ]
  },
  {
   "cell_type": "code",
   "execution_count": 71,
   "id": "5d7c9b02-26f4-4955-b072-486e112a4e79",
   "metadata": {},
   "outputs": [
    {
     "data": {
      "image/png": "[encoded data removed]",
      "text/plain": [
       "<Figure size 640x480 with 1 Axes>"
      ]
     },
     "metadata": {},
     "output_type": "display_data"
    }
   ],
   "source": [
    "display.plot()\n",
    "plt.plot([0, 1], [0, 1], color='gray', lw=2, linestyle='--')\n",
    "plt.title('ROC curve')\n",
    "plt.margins(0)\n",
    "plt.show()"
   ]
  },
  {
   "cell_type": "markdown",
   "id": "ff15095c-9938-46bd-a793-96ed6e737839",
   "metadata": {},
   "source": [
    "The model has an AUC of 0.98, which is  very close to 1 and indicates great performance of the model on an unseen data."
   ]
  },
  {
   "cell_type": "markdown",
   "id": "18fc6a80-9b4e-4a77-a255-9b9becf7f038",
   "metadata": {},
   "source": [
    "### Error analysis"
   ]
  },
  {
   "cell_type": "markdown",
   "id": "72306676-6400-4ac3-929b-4b75de8f806f",
   "metadata": {},
   "source": [
    "We look into the top 5 comments that were predicted wrongly with the highest confidence score in order to see what might have gone wrong in our model."
   ]
  },
  {
   "cell_type": "code",
   "execution_count": 72,
   "id": "a37c8937-cf57-4ffe-aae6-2f24e765c224",
   "metadata": {},
   "outputs": [
    {
     "data": {
      "text/plain": [
       "array([-1.1895522 , -1.53268329, -0.73969193, ..., -1.15329207,\n",
       "        0.90806727,  1.43696907])"
      ]
     },
     "execution_count": 72,
     "metadata": {},
     "output_type": "execute_result"
    }
   ],
   "source": [
    "decision_func_list = svc.decision_function(X_test_tfidf)\n",
    "decision_func_list"
   ]
  },
  {
   "cell_type": "code",
   "execution_count": 73,
   "id": "a12ad712-676a-424d-b8b0-cc61282682e3",
   "metadata": {},
   "outputs": [
    {
     "data": {
      "text/plain": [
       "array([1.1895522 , 1.53268329, 0.73969193, ..., 1.15329207, 0.90806727,\n",
       "       1.43696907])"
      ]
     },
     "execution_count": 73,
     "metadata": {},
     "output_type": "execute_result"
    }
   ],
   "source": [
    "decision_func_abs = np.absolute(decision_func_list)\n",
    "decision_func_abs"
   ]
  },
  {
   "cell_type": "code",
   "execution_count": 74,
   "id": "a8b52e71-1d07-4555-93a8-276313afedd2",
   "metadata": {},
   "outputs": [],
   "source": [
    "error_idx = [idx for idx, (i, j) in enumerate(zip(y_test, y_hat)) if i!=j]"
   ]
  },
  {
   "cell_type": "code",
   "execution_count": 75,
   "id": "ec110db8-7480-418d-8589-5d1165db106e",
   "metadata": {},
   "outputs": [],
   "source": [
    "error_idx_sorted = [idx for abs, idx in sorted(zip(decision_func_abs[error_idx],error_idx), reverse=True)]"
   ]
  },
  {
   "cell_type": "code",
   "execution_count": 76,
   "id": "3f39688e-ff22-4252-a17c-12eb60efdcf3",
   "metadata": {},
   "outputs": [],
   "source": [
    "correct_idx = [idx for idx, (i, j) in enumerate(zip(y_test, y_hat)) if i==j]"
   ]
  },
  {
   "cell_type": "code",
   "execution_count": 77,
   "id": "915a0b4f-3b54-40bf-adc1-056c27685ae3",
   "metadata": {},
   "outputs": [],
   "source": [
    "correct_idx_sorted = [idx for abs, idx in sorted(zip(decision_func_abs[correct_idx],correct_idx), reverse=True)]"
   ]
  },
  {
   "cell_type": "code",
   "execution_count": 78,
   "id": "dd88b925-c2e3-4145-bfda-84a2908057c8",
   "metadata": {},
   "outputs": [
    {
     "name": "stdout",
     "output_type": "stream",
     "text": [
      "I was really excited to try this product based on the reviews. I loved everything about it - scent, texture etc. Sadly, it caused me to breakout all over my face and I had to stop using it.\n",
      "true label:  1.0\n",
      "predicted label:  0.0\n",
      "decision_func_score:  -1.8769531027651776\n",
      "============================================================\n",
      "it’s really good but so overrated like there’s nothing special about it, not worth the money tbh\n",
      "true label:  1.0\n",
      "predicted label:  0.0\n",
      "decision_func_score:  -1.7539652142534625\n",
      "============================================================\n",
      "This product didn’t work for my skin personally, but if you have dry normal skin this would work for you. I have combo acne prone skin and the first couple weeks of use it was amazing but then I started to notice it was clogging the pores on my cheeks and gave me milia bumps near my under eye area. It’s a heavier cream, and you don’t need that much product to cover your face. It kind of takes a while to sink into the skin, I used this as a nighttime cream for that reason.\n",
      "true label:  1.0\n",
      "predicted label:  0.0\n",
      "decision_func_score:  -1.698786158252735\n",
      "============================================================\n",
      "I have never needed chapstick or lip moisturizer. When i use products like these they just dry my lips out after use. This is great for the price but if you have naturally nice lips you won’t need this. I put this on my husband every night because he is in love with burt bees so it works for him. He has yet to have a complication.\n",
      "true label:  0.0\n",
      "predicted label:  1.0\n",
      "decision_func_score:  1.4499104737338122\n",
      "============================================================\n",
      "I have super dry lip every single day.  my lip is always has peel.try many stuff doesn’t work for it. And I watch you tube many people recommend this sleep mask. When you used before you sleep and second day you lip is smooth. But after few hours my lip is still get peel. Used about four mouthed still same never buy it again\n",
      "true label:  0.0\n",
      "predicted label:  1.0\n",
      "decision_func_score:  1.4179305345458277\n",
      "============================================================\n"
     ]
    }
   ],
   "source": [
    "# Top 5 wrong prediction\n",
    "for idx in error_idx_sorted[:5]:\n",
    "    print(X_test[idx])\n",
    "    print(\"true label: \", y_test[idx])\n",
    "    print(\"predicted label: \", y_hat[idx])\n",
    "    print(\"decision_func_score: \", decision_func_list[idx])\n",
    "    print(\"==============================\"*2)"
   ]
  },
  {
   "cell_type": "markdown",
   "id": "7764ed5f-e4e4-46d0-9a2f-790d138ac550",
   "metadata": {},
   "source": [
    "**Review 1**: The reviewer expresses enthusiasm for the product's features but ultimately reports a negative experience (breakouts) and stops using it. The true label of 1 might indicate a labeling error, as the overall sentiment skews negative due to the skin reaction. Alternatively, the model might have been confused by the initially positive language and missed the shift in sentiment when the reviewer mentioned the product’s adverse effects.\n",
    "\n",
    "**Review 2**: The reviewer acknowledges that the product is good but criticizes it for being overrated and not worth the price. This mixed review, while mostly critical, is labeled as 1 (recommendation), possibly suggesting a labeling error. \n",
    "\n",
    "**Review 3**: The reviewer provides a detailed account of how the product didn’t suit their skin type but could work for others, and thus recommending it for others. The mention of positive effects at first might have led to the true label being 1, but the model likely focused on the later negative experiences (clogging pores, milia bumps), causing it to predict 0.\n",
    "\n",
    "**Review 4**: The reviewer describes their persistent lip problem and frustration with the product not resolving the issue, concluding they will never buy it again. The true label of 0 seems accurate, but the model might have been misled by phrases like “recommend this sleep mask” and the initial hopeful tone, resulting in a predicted label of 1.\n",
    "\n",
    "**Review 5**: This reviewer explains that they don’t personally need the product but uses it for someone else who loves it. The mixed nature of the review, with neutral-to-positive language about its effectiveness for another person, could have confused the model. The true label of 0 aligns with the reviewer's own indifference, but the model might have focused on the positive remarks about the husband’s experience, leading to a prediction of 1."
   ]
  },
  {
   "cell_type": "markdown",
   "id": "9ab9119d-17b3-4c3c-8ce1-ae82b0e80f34",
   "metadata": {},
   "source": [
    "### feature importance"
   ]
  },
  {
   "cell_type": "code",
   "execution_count": 79,
   "id": "5d9da697-4145-441d-a43d-510f50306ea9",
   "metadata": {},
   "outputs": [
    {
     "name": "stdout",
     "output_type": "stream",
     "text": [
      "love 3.018676816766791\n",
      "amazing 2.4822452064217586\n",
      "soft 2.4522948926712664\n",
      "best 2.330892758120321\n",
      "gentle 2.0942405632605006\n",
      "skeptical 2.0082396223414434\n",
      "great 1.9881102114210054\n",
      "cucumber 1.96608375191186\n",
      "perfect 1.9654685124150009\n",
      "without 1.8970390552304113\n",
      "winter 1.867280910599554\n",
      "smooth 1.8094471059813024\n",
      "saved 1.7997996219661097\n",
      "helped 1.7241558548562566\n",
      "helps 1.662683905357922\n",
      "lips 1.6609695006724021\n",
      "obsessed 1.6303165813126217\n",
      "keeps 1.5380898238818383\n",
      "eczema 1.5166241499323414\n",
      "years 1.5099653380528613\n",
      "night 1.5013882598372295\n",
      "favorite 1.49174576728599\n",
      "vanilla 1.4795311312131785\n",
      "fresh 1.462015247776052\n",
      "lipstick 1.428203458083405\n",
      "wonders 1.4187904437242096\n",
      "softer 1.3889684366526602\n",
      "lip 1.3580803005715656\n",
      "awesome 1.3436194319425643\n",
      "soothing 1.3339702454916191\n"
     ]
    }
   ],
   "source": [
    "# The 30 most importat features in the model\n",
    "for score, fname in sorted(zip(svc.coef_[0], feature_names), reverse=True)[:30]:\n",
    "    print(fname, score)"
   ]
  },
  {
   "cell_type": "markdown",
   "id": "22faec8a-a4b7-4466-9770-051ea5c10dd7",
   "metadata": {},
   "source": [
    "Observing the 30 most important features, words having strong and clear meaning such as \"love\", \"amazing\", \"best\", \"skeptical\", and \"great\" generally had strong importance in the model, which is very reasonable since those words give clearer information and tone of the reviews. "
   ]
  }
 ],
 "metadata": {
  "kernelspec": {
   "display_name": "Python [conda env:ds_cf] *",
   "language": "python",
   "name": "conda-env-ds_cf-py"
  },
  "language_info": {
   "codemirror_mode": {
    "name": "ipython",
    "version": 3
   },
   "file_extension": ".py",
   "mimetype": "text/x-python",
   "name": "python",
   "nbconvert_exporter": "python",
   "pygments_lexer": "ipython3",
   "version": "3.8.15"
  }
 },
 "nbformat": 4,
 "nbformat_minor": 5
}
